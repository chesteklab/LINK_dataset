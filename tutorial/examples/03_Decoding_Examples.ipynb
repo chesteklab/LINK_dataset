{
 "cells": [
  {
   "cell_type": "markdown",
   "id": "22034025",
   "metadata": {},
   "source": [
    "# 03 Decoding Examples\n",
    "\n",
    "This notebook walks through some simple examples for decoding the data."
   ]
  },
  {
   "cell_type": "markdown",
   "id": "a76de7b9",
   "metadata": {},
   "source": [
    "### 0. Data Loading"
   ]
  },
  {
   "cell_type": "code",
   "execution_count": null,
   "id": "24da1026",
   "metadata": {},
   "outputs": [],
   "source": [
    "# Setting working directory to root to mimic usual usecase\n",
    "###############################################################\n",
    "import sys\n",
    "import os\n",
    "root_path = os.path.abspath(os.path.join(os.getcwd(), '../..'))\n",
    "sys.path.insert(0, root_path)\n",
    "###############################################################\n",
    "import numpy as np\n",
    "import pandas as pd\n",
    "###############################################################\n",
    "\n",
    "from tutorial.utils import data_tools"
   ]
  },
  {
   "cell_type": "code",
   "execution_count": null,
   "id": "b81469d5",
   "metadata": {},
   "outputs": [],
   "source": [
    "data_path = '../../data_test'\n",
    "dates = data_tools.extract_dates_from_filenames(data_path)\n",
    "data_CO, data_RD = data_tools.load_day(dates[0], data_path)"
   ]
  },
  {
   "cell_type": "markdown",
   "id": "a3b5a9fe",
   "metadata": {},
   "source": [
    "### 1. Ridge Regression Example\n",
    "\n",
    "This example loads one day and perform ridge regression to predict finger kinematics. We start by splitting and augementing the data."
   ]
  },
  {
   "cell_type": "code",
   "execution_count": null,
   "id": "4dc30caf",
   "metadata": {},
   "outputs": [],
   "source": [
    "# Load sbp, finger kinematics, and trial index data from day 42\n",
    "date = dates[42]\n",
    "data_CO, data_RD = data_tools.load_day(date, data_path)\n",
    "if data_CO and data_RD:\n",
    "    TrialIndex = max(data_CO['trial_index'], data_RD['trial_index'])\n",
    "    sbp = np.concatenate((data_CO['sbp'], data_RD['sbp']), axis=0)\n",
    "    beh = np.concatenate((data_CO['finger_kinematics'], data_RD['finger_kinematics']), axis=0)\n",
    "elif data_RD:\n",
    "    TrialIndex = data_RD['trial_index']\n",
    "    sbp = data_RD['sbp']\n",
    "    beh = data_RD['finger_kinematics']\n",
    "else:\n",
    "    TrialIndex = data_CO['trial_index']\n",
    "    sbp = data_CO['sbp']\n",
    "    beh = data_CO['finger_kinematics']\n",
    "\n",
    "# Train-test split\n",
    "test_len = np.min((len(TrialIndex)-1, 399))\n",
    "neural_train= sbp[:TrialIndex[300]]\n",
    "neural_test = sbp[TrialIndex[300]:TrialIndex[test_len]]\n",
    "finger_train = beh[:TrialIndex[300]]\n",
    "finger_test = beh[TrialIndex[300]:TrialIndex[test_len]]\n",
    "\n",
    "# Add history\n",
    "def add_hist(X, Y, hist=10):\n",
    "    nNeu = X.shape[1]\n",
    "\n",
    "    adjX = np.zeros((X.shape[0]-hist, nNeu, hist+1))\n",
    "    for h in range(hist+1):\n",
    "        adjX[:,:,h] = X[h:X.shape[0]-hist+h,:]\n",
    "    adjY = Y[hist:,:]\n",
    "\n",
    "    adjX = adjX.reshape(adjX.shape[0],-1)\n",
    "    return adjX, adjY\n",
    "\n",
    "neural_train, finger_train = add_hist(neural_train, finger_train, hist = 20)\n",
    "neural_test, finger_test = add_hist(neural_test, finger_test, hist = 20)\n",
    "\n",
    "# Add bias term\n",
    "neural_test = np.concatenate((neural_test, np.ones((len(neural_test), 1))), axis=1)\n",
    "neural_train = np.concatenate((neural_train, np.ones((len(neural_train), 1))), axis=1)"
   ]
  },
  {
   "cell_type": "markdown",
   "id": "c3448493",
   "metadata": {},
   "source": [
    "Then ridge regression is applied to the data and performance is evaluated using Pearson r."
   ]
  },
  {
   "cell_type": "code",
   "execution_count": null,
   "id": "c1dc41be",
   "metadata": {},
   "outputs": [],
   "source": [
    "from sklearn import linear_model\n",
    "from scipy.stats import pearsonr\n",
    "\n",
    "reg = linear_model.Ridge(alpha = 0.001,fit_intercept=False)\n",
    "reg.fit(neural_train, finger_train)\n",
    "rr_prediction = reg.predict(neural_test)\n",
    "r = np.array([pearsonr(finger_test, rr_prediction).statistic]).reshape(1,4)\n",
    "print(\"Pearson r for each output dimension:\", r)"
   ]
  }
 ],
 "metadata": {
  "kernelspec": {
   "display_name": ".venv",
   "language": "python",
   "name": "python3"
  },
  "language_info": {
   "codemirror_mode": {
    "name": "ipython",
    "version": 3
   },
   "file_extension": ".py",
   "mimetype": "text/x-python",
   "name": "python",
   "nbconvert_exporter": "python",
   "pygments_lexer": "ipython3",
   "version": "3.11.9"
  }
 },
 "nbformat": 4,
 "nbformat_minor": 5
}
