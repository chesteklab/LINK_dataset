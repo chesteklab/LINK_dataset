{
 "cells": [
  {
   "cell_type": "markdown",
   "id": "9d4a7ce5",
   "metadata": {},
   "source": [
    "# 01 Starter: Loading and Viewing the NWB Data"
   ]
  },
  {
   "cell_type": "markdown",
   "id": "ce6df0e7",
   "metadata": {},
   "source": [
    "This notebook walks through the NWB data loading and conversion tools, as well as providing some simple visualizations for LINK dataset."
   ]
  },
  {
   "cell_type": "markdown",
   "id": "89684009",
   "metadata": {},
   "source": [
    "### 1. Download LINK Dataset"
   ]
  },
  {
   "cell_type": "markdown",
   "id": "4d307a7f",
   "metadata": {},
   "source": [
    "We need to first install DANDI-cli tool for downloading the dataset. By default (of the series of tutorial notebooks) it downloads data to the root directory."
   ]
  },
  {
   "cell_type": "code",
   "execution_count": null,
   "id": "8c48dff4",
   "metadata": {},
   "outputs": [],
   "source": [
    "# Install dandi\n",
    "%pip install dandi\n",
    "# Download LINK dataset using dandi\n",
    "\n",
    "!dandi download DANDI:001201 -o ../../"
   ]
  },
  {
   "cell_type": "markdown",
   "id": "7dd9e216",
   "metadata": {},
   "source": [
    "Double check that data is downloaded to the root directory by examine that if a folder called 001201 exists with various nwb files in its sub-Monkey-N subfolder. Run the following cell, there should be 312 NWB files found."
   ]
  },
  {
   "cell_type": "code",
   "execution_count": null,
   "id": "9eff019d",
   "metadata": {},
   "outputs": [],
   "source": [
    "import os\n",
    "dataset_dir = os.path.join('..', '..', '001201')\n",
    "subfolder = os.path.join(dataset_dir, 'sub-Monkey-N')\n",
    "\n",
    "if os.path.isdir(dataset_dir) and os.path.isdir(subfolder):\n",
    "    nwb_files = [f for f in os.listdir(subfolder) if f.endswith('.nwb')]\n",
    "    if nwb_files:\n",
    "        print(f\"Data is downloaded. Found {len(nwb_files)} NWB files in {subfolder}:\")\n",
    "    else:\n",
    "        print(f\"No NWB files found in {subfolder}.\")\n",
    "else:\n",
    "    print(f\"Dataset folder or subfolder not found at {subfolder}.\")"
   ]
  },
  {
   "cell_type": "markdown",
   "id": "438c078e",
   "metadata": {},
   "source": [
    "### 2. Accessing NWB Files Directly Using PyNWB\n"
   ]
  },
  {
   "cell_type": "markdown",
   "id": "b19d2a60",
   "metadata": {},
   "source": [
    "We will need to install pynwb library for accessing NWB files in python."
   ]
  },
  {
   "cell_type": "code",
   "execution_count": null,
   "id": "69b99ee0",
   "metadata": {},
   "outputs": [],
   "source": [
    "# Install pynwb\n",
    "%pip install -U pynwb"
   ]
  },
  {
   "cell_type": "markdown",
   "id": "4c8e2511",
   "metadata": {},
   "source": [
    "We import pynwb here and look at the overall structure for the first nwb file. [TODO: some help here describing what NWB file contains]"
   ]
  },
  {
   "cell_type": "code",
   "execution_count": null,
   "id": "74100db3",
   "metadata": {},
   "outputs": [],
   "source": [
    "from pynwb import NWBHDF5IO\n",
    "\n",
    "dataset_dir = os.path.join('..', '..', '001201')\n",
    "subfolder = os.path.join(dataset_dir, 'sub-Monkey-N')\n",
    "\n",
    "nwb_path = os.path.join(subfolder, nwb_files[0])\n",
    "with NWBHDF5IO(nwb_path, 'r') as io:\n",
    "    nwbfile = io.read()\n",
    "    print(nwbfile)"
   ]
  },
  {
   "cell_type": "markdown",
   "id": "f6f24103",
   "metadata": {},
   "source": [
    "Here we examine a simple case of neural and behavioural data.\n",
    "\n",
    "To look at the neural data, analysis section needs to be accessed. For neural data, it contains spiking band power and threshold crossing. For behavioural data, it contains index position, MRS position, index velocity, and MRS velocity. \n",
    "\n",
    "In this NWB file, each type of neural data contains a matrix of (27649, 96), corresponding to (n_TimeBins, n_Channels) in general. For each type of behavioural data, it contains a matrix of (27649, 1).\n",
    "\n",
    "[TODO: talk about what unit is in SBP and why /0.25]\n",
    "\n",
    "The following cell access the analysis section of the NWB file and organises neural data into a ndarray called sbp and behavioural data into a ndarray called kinematic_names."
   ]
  },
  {
   "cell_type": "code",
   "execution_count": null,
   "id": "3ed9befb",
   "metadata": {},
   "outputs": [],
   "source": [
    "import numpy as np\n",
    "kinematic_names =   (\n",
    "                    \"index_position\",\n",
    "                    \"mrs_position\",\n",
    "                    \"index_velocity\",\n",
    "                    \"mrs_velocity\",\n",
    "                    )\n",
    "\n",
    "with NWBHDF5IO(nwb_path, 'r') as io:\n",
    "    nwbfile = io.read()\n",
    "    sbp = (nwbfile.analysis[\"SpikingBandPower\"].data[:] / 0.25).astype(np.float64)\n",
    "    \n",
    "    finger_kinematics = np.column_stack(\n",
    "                                        [nwbfile.analysis[f\"{n}\"].data[:].ravel() \n",
    "                                        for n in kinematic_names]\n",
    "                                        ).astype(np.float64)\n"
   ]
  },
  {
   "cell_type": "markdown",
   "id": "87a44f8a",
   "metadata": {},
   "source": [
    "Here is a simple plot to demonstrate what these data look like. Channel 30 is selected from the SBP data arbitrarily."
   ]
  },
  {
   "cell_type": "code",
   "execution_count": null,
   "id": "1b56548b",
   "metadata": {},
   "outputs": [],
   "source": [
    "import matplotlib.pyplot as plt\n",
    "\n",
    "fig, axs = plt.subplots(5, 1, figsize=(12, 10), sharex=True)\n",
    "axs[0].plot(sbp[:,30])\n",
    "axs[0].set_ylabel('Spiking Band Power')\n",
    "\n",
    "for i in range(4):\n",
    "    axs[i+1].plot(finger_kinematics[:,i])\n",
    "    axs[i+1].set_ylabel(f'{kinematic_names[i]}')\n",
    "\n",
    "axs[-1].set_xlabel('Time')\n",
    "plt.tight_layout()\n",
    "plt.show()"
   ]
  },
  {
   "cell_type": "markdown",
   "id": "0e164559",
   "metadata": {},
   "source": [
    "### 2. Converting NWB Files Using nwb_tools"
   ]
  },
  {
   "cell_type": "markdown",
   "id": "78ba702f",
   "metadata": {},
   "source": [
    "nwb_tools.py is provided for easier access and conversion of NWB files to downstream tasks. We start by importing nwb_tools."
   ]
  },
  {
   "cell_type": "code",
   "execution_count": null,
   "id": "58f3be2f",
   "metadata": {},
   "outputs": [],
   "source": [
    "# Setting working directory to root to mimic usual usecase\n",
    "###############################################################\n",
    "import sys\n",
    "import os\n",
    "root_path = os.path.abspath(os.path.join(os.getcwd(), '../..'))\n",
    "sys.path.insert(0, root_path)\n",
    "###############################################################\n",
    "\n",
    "from tutorial.utils import nwb_tools"
   ]
  },
  {
   "cell_type": "markdown",
   "id": "2443033e",
   "metadata": {},
   "source": [
    "load_one_nwb tool converts one nwb file into dictionary, as shown below,"
   ]
  },
  {
   "cell_type": "code",
   "execution_count": null,
   "id": "b743fd20",
   "metadata": {},
   "outputs": [],
   "source": [
    "dict_from_nwb = nwb_tools.load_one_nwb(os.path.join(subfolder, nwb_files[0]))\n",
    "print(dict_from_nwb)"
   ]
  },
  {
   "cell_type": "markdown",
   "id": "c0c74091",
   "metadata": {},
   "source": [
    "Here is another tool to convert all NWB data into pkl files for downstream applications.\n",
    "\n",
    "[TODO: talk about what pickle files contain]"
   ]
  },
  {
   "cell_type": "code",
   "execution_count": null,
   "id": "b31b64fe",
   "metadata": {},
   "outputs": [],
   "source": [
    "data_path = dataset_dir\n",
    "output_path = os.path.join(dataset_dir, '../data_test')\n",
    "if not os.path.exists(output_path):\n",
    "    os.makedirs(output_path)\n",
    "\n",
    "nwb_tools.convert_dandi_nwb_to_pkl(data_path, output_path)"
   ]
  }
 ],
 "metadata": {
  "kernelspec": {
   "display_name": ".venv",
   "language": "python",
   "name": "python3"
  },
  "language_info": {
   "codemirror_mode": {
    "name": "ipython",
    "version": 3
   },
   "file_extension": ".py",
   "mimetype": "text/x-python",
   "name": "python",
   "nbconvert_exporter": "python",
   "pygments_lexer": "ipython3",
   "version": "3.11.9"
  }
 },
 "nbformat": 4,
 "nbformat_minor": 5
}
