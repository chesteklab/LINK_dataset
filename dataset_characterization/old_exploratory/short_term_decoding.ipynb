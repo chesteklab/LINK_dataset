{
 "cells": [
  {
   "cell_type": "markdown",
   "id": "e3c7d4ec",
   "metadata": {},
   "source": [
    "# testing rr and nn within 10 days of each day."
   ]
  },
  {
   "cell_type": "code",
   "execution_count": 1,
   "id": "7104cfcb",
   "metadata": {},
   "outputs": [],
   "source": [
    "import os\n",
    "import sys\n",
    "import pdb\n",
    "from copy import deepcopy\n",
    "# sys.path.append('/Users/yixuan/Documents/GitHub/pybmi')\n",
    "sys.path.append('C:\\Repos\\pybmi')\n",
    "from pybmi.utils.ZTools import ZStructTranslator,zarray\n",
    "from pybmi.utils import ZTools, TrainingUtils\n",
    "from pybmi.decoders import NNDecoders\n",
    "from pybmi.offline import TrainingOffline\n",
    "from pybmi.utils.AnalysisTools import adjustfeats\n",
    "\n",
    "import torch\n",
    "from torch.utils.data import TensorDataset, DataLoader\n",
    "import matplotlib.pyplot as plt\n",
    "import seaborn as sns\n",
    "import scipy.io as sio\n",
    "from scipy import stats\n",
    "import numpy as np\n",
    "import pandas as pd\n",
    "import pickle\n",
    "\n",
    "from sklearn import linear_model\n",
    "from sklearn.metrics import mean_squared_error, r2_score\n",
    "\n",
    "from collections import defaultdict\n",
    "import datetime\n",
    "import pdb\n",
    "\n",
    "# source_folder = \"/Volumes/share/Student Folders/Bianca_Wang/\"\n",
    "source_folder = 'Z:\\Student Folders\\Bianca_Wang'\n",
    "data_folder = os.path.join(source_folder,'updated_retrieved')\n",
    "k = 100\n"
   ]
  },
  {
   "cell_type": "code",
   "execution_count": 2,
   "id": "72f1d509",
   "metadata": {},
   "outputs": [],
   "source": [
    "# Define function for splitting training and testing data\n",
    "def dataPrep(feats, hist, numChans=96):\n",
    "    '''\n",
    "    Get test and training data splits from a single session - also prep 2D and 3D versions\n",
    "\n",
    "    '''\n",
    "    TrialIndex = feats['TrialIndex']\n",
    "    \n",
    "    if len(TrialIndex) > 300:\n",
    "        test_len = np.min((len(TrialIndex)-1, 399))\n",
    "\n",
    "        neural_training = feats['NeuralFeature'][:TrialIndex[300]]\n",
    "        neural_testing = feats['NeuralFeature'][TrialIndex[300]:TrialIndex[test_len]]\n",
    "\n",
    "        finger_training = feats['FingerAnglesTIMRL'][:TrialIndex[300]]\n",
    "        finger_testing = feats['FingerAnglesTIMRL'][TrialIndex[300]:TrialIndex[test_len]]\n",
    "\n",
    "    else:\n",
    "        pdb.set_trace()\n",
    "        raise Exception('not enough trials')\n",
    "\n",
    "        \n",
    "    neural_training, finger_training = adjustfeats(neural_training, finger_training, hist = hist, out2d = True)\n",
    "    neural_testing, finger_testing = adjustfeats(neural_testing, finger_testing, hist = hist, out2d = True)\n",
    "    \n",
    "    neural_training3D = neural_training.reshape(len(neural_training), numChans, -1)\n",
    "    neural_testing3D = neural_testing.reshape(len(neural_testing), numChans, -1)\n",
    "\n",
    "    neural_testing = np.concatenate((neural_testing, np.ones((len(neural_testing), 1))), axis=1) # add a column of ones for RR\n",
    "    neural_training = np.concatenate((neural_training, np.ones((len(neural_training), 1))), axis=1) # add a column of ones for RR\n",
    "\n",
    "    return neural_training, neural_testing, neural_training3D, neural_testing3D, finger_training, finger_testing"
   ]
  },
  {
   "cell_type": "code",
   "execution_count": 3,
   "id": "ce68ee93",
   "metadata": {
    "scrolled": true
   },
   "outputs": [
    {
     "name": "stdout",
     "output_type": "stream",
     "text": [
      "day 0 done\n",
      "day 3 done\n",
      "day 7 done\n",
      "day 8 done\n",
      "day 10 done\n",
      "day 18 done\n",
      "day 26 done\n",
      "day 28 done\n",
      "day 29 done\n",
      "day 35 done\n",
      "day 35 done\n",
      "day 43 done\n",
      "day 43 done\n",
      "day 45 done\n",
      "day 45 done\n",
      "day 46 done\n",
      "day 50 done\n",
      "day 50 done\n",
      "day 51 done\n",
      "day 52 done\n",
      "day 53 done\n",
      "day 147 done\n",
      "day 147 done\n",
      "day 148 done\n",
      "day 148 done\n",
      "day 149 done\n",
      "day 150 done\n",
      "day 161 done\n",
      "day 162 done\n",
      "day 163 done\n",
      "day 183 done\n",
      "day 184 done\n",
      "day 184 done\n",
      "day 186 done\n",
      "day 190 done\n",
      "day 194 done\n",
      "day 197 done\n",
      "day 198 done\n",
      "day 198 done\n",
      "day 208 done\n",
      "day 212 done\n",
      "day 214 done\n",
      "day 215 done\n",
      "day 217 done\n",
      "day 221 done\n",
      "day 222 done\n",
      "day 224 done\n",
      "day 229 done\n",
      "day 233 done\n",
      "day 235 done\n",
      "day 236 done\n",
      "day 238 done\n",
      "day 239 done\n",
      "day 240 done\n",
      "day 241 done\n",
      "day 245 done\n",
      "day 246 done\n",
      "day 249 done\n",
      "day 249 done\n",
      "day 254 done\n",
      "day 259 done\n",
      "day 263 done\n",
      "day 266 done\n",
      "day 267 done\n",
      "day 268 done\n",
      "day 270 done\n",
      "day 274 done\n",
      "day 275 done\n",
      "day 277 done\n",
      "day 281 done\n",
      "day 287 done\n",
      "day 294 done\n",
      "day 295 done\n",
      "day 296 done\n",
      "day 297 done\n",
      "day 303 done\n",
      "day 310 done\n",
      "day 311 done\n",
      "day 312 done\n",
      "day 319 done\n",
      "day 320 done\n",
      "day 343 done\n",
      "day 344 done\n",
      "day 347 done\n",
      "day 350 done\n",
      "day 352 done\n",
      "day 357 done\n",
      "day 360 done\n",
      "day 362 done\n",
      "day 364 done\n",
      "day 365 done\n",
      "day 372 done\n",
      "day 386 done\n",
      "day 393 done\n",
      "day 395 done\n",
      "day 396 done\n",
      "day 397 done\n",
      "day 403 done\n",
      "day 403 done\n",
      "day 407 done\n",
      "day 408 done\n",
      "day 410 done\n",
      "day 411 done\n",
      "day 414 done\n",
      "day 417 done\n",
      "day 420 done\n",
      "day 421 done\n",
      "day 427 done\n",
      "day 428 done\n",
      "day 429 done\n",
      "day 431 done\n",
      "day 434 done\n",
      "day 435 done\n",
      "day 436 done\n",
      "day 438 done\n",
      "day 441 done\n",
      "day 442 done\n",
      "day 443 done\n",
      "day 444 done\n",
      "day 449 done\n",
      "day 450 done\n",
      "day 457 done\n",
      "day 459 done\n",
      "day 462 done\n",
      "day 463 done\n",
      "day 464 done\n",
      "day 470 done\n",
      "day 473 done\n",
      "day 477 done\n",
      "day 478 done\n",
      "day 483 done\n",
      "day 483 done\n",
      "day 484 done\n",
      "day 485 done\n",
      "day 485 done\n",
      "day 491 done\n",
      "day 494 done\n",
      "day 497 done\n",
      "day 498 done\n",
      "day 499 done\n",
      "day 504 done\n",
      "day 505 done\n",
      "day 506 done\n",
      "day 507 done\n",
      "day 514 done\n",
      "day 516 done\n",
      "day 518 done\n",
      "day 519 done\n",
      "day 520 done\n",
      "day 521 done\n",
      "day 522 done\n",
      "day 523 done\n",
      "day 526 done\n",
      "day 527 done\n",
      "day 528 done\n",
      "day 529 done\n",
      "day 532 done\n",
      "day 533 done\n",
      "day 534 done\n",
      "day 535 done\n",
      "day 536 done\n",
      "day 539 done\n",
      "day 540 done\n",
      "day 541 done\n",
      "day 543 done\n",
      "day 553 done\n",
      "day 554 done\n",
      "day 555 done\n",
      "day 556 done\n",
      "day 561 done\n",
      "day 562 done\n",
      "day 563 done\n",
      "day 567 done\n",
      "day 568 done\n",
      "day 569 done\n",
      "day 570 done\n",
      "day 571 done\n",
      "day 574 done\n",
      "day 576 done\n",
      "day 578 done\n",
      "day 581 done\n",
      "day 582 done\n",
      "day 585 done\n",
      "day 588 done\n",
      "day 589 done\n",
      "day 590 done\n",
      "day 595 done\n",
      "day 596 done\n",
      "day 597 done\n",
      "day 599 done\n",
      "day 603 done\n",
      "day 606 done\n",
      "day 613 done\n",
      "day 617 done\n",
      "day 618 done\n",
      "day 619 done\n",
      "day 620 done\n",
      "day 627 done\n",
      "day 627 done\n",
      "day 631 done\n",
      "day 634 done\n",
      "day 637 done\n",
      "day 638 done\n",
      "day 639 done\n",
      "day 641 done\n",
      "day 644 done\n",
      "day 645 done\n",
      "day 659 done\n",
      "day 666 done\n",
      "day 672 done\n",
      "day 688 done\n",
      "day 714 done\n",
      "day 717 done\n",
      "day 718 done\n",
      "day 721 done\n",
      "day 723 done\n",
      "day 724 done\n",
      "day 725 done\n",
      "day 728 done\n",
      "day 730 done\n",
      "day 732 done\n",
      "day 735 done\n",
      "day 737 done\n",
      "day 738 done\n",
      "day 739 done\n",
      "day 742 done\n",
      "day 744 done\n",
      "day 745 done\n",
      "day 746 done\n",
      "day 756 done\n",
      "day 759 done\n",
      "day 760 done\n",
      "day 763 done\n",
      "day 763 done\n",
      "day 770 done\n",
      "day 774 done\n",
      "day 777 done\n",
      "day 779 done\n",
      "day 780 done\n",
      "day 781 done\n",
      "day 784 done\n",
      "day 786 done\n",
      "day 788 done\n",
      "day 788 done\n",
      "day 791 done\n",
      "day 793 done\n",
      "day 795 done\n",
      "day 798 done\n",
      "day 799 done\n",
      "day 800 done\n",
      "day 801 done\n",
      "day 802 done\n",
      "day 805 done\n",
      "day 807 done\n",
      "day 808 done\n",
      "day 809 done\n",
      "day 809 done\n",
      "day 812 done\n",
      "day 814 done\n",
      "day 815 done\n",
      "day 816 done\n",
      "day 819 done\n",
      "day 821 done\n",
      "day 822 done\n",
      "day 823 done\n",
      "day 833 done\n",
      "day 835 done\n",
      "day 837 done\n",
      "day 847 done\n",
      "day 849 done\n",
      "day 850 done\n",
      "day 851 done\n",
      "day 854 done\n",
      "day 854 done\n",
      "day 855 done\n",
      "day 856 done\n",
      "day 857 done\n",
      "day 861 done\n",
      "day 863 done\n",
      "day 864 done\n",
      "day 865 done\n",
      "day 868 done\n",
      "day 869 done\n",
      "day 871 done\n",
      "day 872 done\n",
      "day 875 done\n",
      "day 878 done\n",
      "day 882 done\n",
      "day 896 done\n",
      "day 899 done\n",
      "day 900 done\n",
      "day 903 done\n",
      "day 905 done\n",
      "day 906 done\n",
      "day 907 done\n",
      "day 910 done\n",
      "day 912 done\n",
      "day 913 done\n",
      "day 914 done\n",
      "day 917 done\n",
      "day 919 done\n",
      "day 920 done\n",
      "day 921 done\n",
      "day 924 done\n",
      "day 926 done\n",
      "day 926 done\n",
      "day 927 done\n",
      "day 933 done\n",
      "day 934 done\n",
      "day 935 done\n",
      "day 938 done\n",
      "day 941 done\n",
      "day 942 done\n",
      "day 945 done\n",
      "day 947 done\n",
      "day 948 done\n",
      "day 949 done\n",
      "day 953 done\n",
      "day 954 done\n",
      "day 956 done\n",
      "day 959 done\n",
      "day 960 done\n",
      "day 961 done\n",
      "day 963 done\n",
      "day 966 done\n",
      "day 968 done\n",
      "day 968 done\n",
      "day 970 done\n",
      "day 973 done\n",
      "day 974 done\n",
      "day 977 done\n",
      "day 980 done\n",
      "day 984 done\n",
      "day 987 done\n",
      "day 989 done\n",
      "day 991 done\n",
      "day 994 done\n",
      "day 996 done\n",
      "day 998 done\n",
      "day 1001 done\n",
      "day 1002 done\n",
      "day 1003 done\n",
      "day 1004 done\n",
      "day 1005 done\n",
      "day 1009 done\n",
      "day 1010 done\n",
      "day 1010 done\n",
      "day 1012 done\n",
      "day 1015 done\n",
      "day 1016 done\n",
      "day 1017 done\n",
      "day 1038 done\n",
      "day 1040 done\n",
      "day 1044 done\n",
      "day 1047 done\n",
      "day 1072 done\n",
      "day 1079 done\n",
      "day 1082 done\n",
      "day 1085 done\n",
      "day 1086 done\n",
      "day 1092 done\n",
      "day 1093 done\n",
      "day 1096 done\n",
      "day 1099 done\n",
      "day 1100 done\n",
      "day 1103 done\n",
      "day 1106 done\n",
      "day 1107 done\n",
      "day 1110 done\n",
      "day 1113 done\n",
      "day 1114 done\n",
      "day 1120 done\n",
      "day 1124 done\n",
      "day 1138 done\n",
      "day 1141 done\n",
      "day 1142 done\n",
      "day 1145 done\n"
     ]
    },
    {
     "name": "stderr",
     "output_type": "stream",
     "text": [
      "c:\\Users\\Hisham\\anaconda3\\lib\\site-packages\\numpy\\lib\\function_base.py:2854: RuntimeWarning: invalid value encountered in divide\n",
      "  c /= stddev[:, None]\n",
      "c:\\Users\\Hisham\\anaconda3\\lib\\site-packages\\numpy\\lib\\function_base.py:2855: RuntimeWarning: invalid value encountered in divide\n",
      "  c /= stddev[None, :]\n",
      "c:\\Users\\Hisham\\anaconda3\\lib\\site-packages\\numpy\\lib\\function_base.py:2854: RuntimeWarning: invalid value encountered in divide\n",
      "  c /= stddev[:, None]\n",
      "c:\\Users\\Hisham\\anaconda3\\lib\\site-packages\\numpy\\lib\\function_base.py:2855: RuntimeWarning: invalid value encountered in divide\n",
      "  c /= stddev[None, :]\n"
     ]
    },
    {
     "name": "stdout",
     "output_type": "stream",
     "text": [
      "day 1148 done\n"
     ]
    },
    {
     "name": "stderr",
     "output_type": "stream",
     "text": [
      "c:\\Users\\Hisham\\anaconda3\\lib\\site-packages\\numpy\\lib\\function_base.py:2854: RuntimeWarning: invalid value encountered in divide\n",
      "  c /= stddev[:, None]\n",
      "c:\\Users\\Hisham\\anaconda3\\lib\\site-packages\\numpy\\lib\\function_base.py:2855: RuntimeWarning: invalid value encountered in divide\n",
      "  c /= stddev[None, :]\n",
      "c:\\Users\\Hisham\\anaconda3\\lib\\site-packages\\numpy\\lib\\function_base.py:2854: RuntimeWarning: invalid value encountered in divide\n",
      "  c /= stddev[:, None]\n",
      "c:\\Users\\Hisham\\anaconda3\\lib\\site-packages\\numpy\\lib\\function_base.py:2855: RuntimeWarning: invalid value encountered in divide\n",
      "  c /= stddev[None, :]\n"
     ]
    },
    {
     "name": "stdout",
     "output_type": "stream",
     "text": [
      "day 1155 done\n"
     ]
    },
    {
     "name": "stderr",
     "output_type": "stream",
     "text": [
      "c:\\Users\\Hisham\\anaconda3\\lib\\site-packages\\numpy\\lib\\function_base.py:2854: RuntimeWarning: invalid value encountered in divide\n",
      "  c /= stddev[:, None]\n",
      "c:\\Users\\Hisham\\anaconda3\\lib\\site-packages\\numpy\\lib\\function_base.py:2855: RuntimeWarning: invalid value encountered in divide\n",
      "  c /= stddev[None, :]\n",
      "c:\\Users\\Hisham\\anaconda3\\lib\\site-packages\\numpy\\lib\\function_base.py:2854: RuntimeWarning: invalid value encountered in divide\n",
      "  c /= stddev[:, None]\n",
      "c:\\Users\\Hisham\\anaconda3\\lib\\site-packages\\numpy\\lib\\function_base.py:2855: RuntimeWarning: invalid value encountered in divide\n",
      "  c /= stddev[None, :]\n"
     ]
    },
    {
     "name": "stdout",
     "output_type": "stream",
     "text": [
      "day 1163 done\n"
     ]
    },
    {
     "name": "stderr",
     "output_type": "stream",
     "text": [
      "c:\\Users\\Hisham\\anaconda3\\lib\\site-packages\\numpy\\lib\\function_base.py:2854: RuntimeWarning: invalid value encountered in divide\n",
      "  c /= stddev[:, None]\n",
      "c:\\Users\\Hisham\\anaconda3\\lib\\site-packages\\numpy\\lib\\function_base.py:2855: RuntimeWarning: invalid value encountered in divide\n",
      "  c /= stddev[None, :]\n",
      "c:\\Users\\Hisham\\anaconda3\\lib\\site-packages\\numpy\\lib\\function_base.py:2854: RuntimeWarning: invalid value encountered in divide\n",
      "  c /= stddev[:, None]\n",
      "c:\\Users\\Hisham\\anaconda3\\lib\\site-packages\\numpy\\lib\\function_base.py:2855: RuntimeWarning: invalid value encountered in divide\n",
      "  c /= stddev[None, :]\n"
     ]
    },
    {
     "name": "stdout",
     "output_type": "stream",
     "text": [
      "day 1164 done\n"
     ]
    },
    {
     "name": "stderr",
     "output_type": "stream",
     "text": [
      "c:\\Users\\Hisham\\anaconda3\\lib\\site-packages\\numpy\\lib\\function_base.py:2854: RuntimeWarning: invalid value encountered in divide\n",
      "  c /= stddev[:, None]\n",
      "c:\\Users\\Hisham\\anaconda3\\lib\\site-packages\\numpy\\lib\\function_base.py:2855: RuntimeWarning: invalid value encountered in divide\n",
      "  c /= stddev[None, :]\n",
      "c:\\Users\\Hisham\\anaconda3\\lib\\site-packages\\numpy\\lib\\function_base.py:2854: RuntimeWarning: invalid value encountered in divide\n",
      "  c /= stddev[:, None]\n",
      "c:\\Users\\Hisham\\anaconda3\\lib\\site-packages\\numpy\\lib\\function_base.py:2855: RuntimeWarning: invalid value encountered in divide\n",
      "  c /= stddev[None, :]\n"
     ]
    },
    {
     "name": "stdout",
     "output_type": "stream",
     "text": [
      "day 1166 done\n"
     ]
    },
    {
     "name": "stderr",
     "output_type": "stream",
     "text": [
      "c:\\Users\\Hisham\\anaconda3\\lib\\site-packages\\numpy\\lib\\function_base.py:2854: RuntimeWarning: invalid value encountered in divide\n",
      "  c /= stddev[:, None]\n",
      "c:\\Users\\Hisham\\anaconda3\\lib\\site-packages\\numpy\\lib\\function_base.py:2855: RuntimeWarning: invalid value encountered in divide\n",
      "  c /= stddev[None, :]\n",
      "c:\\Users\\Hisham\\anaconda3\\lib\\site-packages\\numpy\\lib\\function_base.py:2854: RuntimeWarning: invalid value encountered in divide\n",
      "  c /= stddev[:, None]\n",
      "c:\\Users\\Hisham\\anaconda3\\lib\\site-packages\\numpy\\lib\\function_base.py:2855: RuntimeWarning: invalid value encountered in divide\n",
      "  c /= stddev[None, :]\n"
     ]
    },
    {
     "name": "stdout",
     "output_type": "stream",
     "text": [
      "day 1170 done\n"
     ]
    },
    {
     "name": "stderr",
     "output_type": "stream",
     "text": [
      "c:\\Users\\Hisham\\anaconda3\\lib\\site-packages\\numpy\\lib\\function_base.py:2854: RuntimeWarning: invalid value encountered in divide\n",
      "  c /= stddev[:, None]\n",
      "c:\\Users\\Hisham\\anaconda3\\lib\\site-packages\\numpy\\lib\\function_base.py:2855: RuntimeWarning: invalid value encountered in divide\n",
      "  c /= stddev[None, :]\n",
      "c:\\Users\\Hisham\\anaconda3\\lib\\site-packages\\numpy\\lib\\function_base.py:2854: RuntimeWarning: invalid value encountered in divide\n",
      "  c /= stddev[:, None]\n",
      "c:\\Users\\Hisham\\anaconda3\\lib\\site-packages\\numpy\\lib\\function_base.py:2855: RuntimeWarning: invalid value encountered in divide\n",
      "  c /= stddev[None, :]\n"
     ]
    },
    {
     "name": "stdout",
     "output_type": "stream",
     "text": [
      "day 1172 done\n"
     ]
    },
    {
     "name": "stderr",
     "output_type": "stream",
     "text": [
      "c:\\Users\\Hisham\\anaconda3\\lib\\site-packages\\numpy\\lib\\function_base.py:2854: RuntimeWarning: invalid value encountered in divide\n",
      "  c /= stddev[:, None]\n",
      "c:\\Users\\Hisham\\anaconda3\\lib\\site-packages\\numpy\\lib\\function_base.py:2855: RuntimeWarning: invalid value encountered in divide\n",
      "  c /= stddev[None, :]\n",
      "c:\\Users\\Hisham\\anaconda3\\lib\\site-packages\\numpy\\lib\\function_base.py:2854: RuntimeWarning: invalid value encountered in divide\n",
      "  c /= stddev[:, None]\n",
      "c:\\Users\\Hisham\\anaconda3\\lib\\site-packages\\numpy\\lib\\function_base.py:2855: RuntimeWarning: invalid value encountered in divide\n",
      "  c /= stddev[None, :]\n"
     ]
    },
    {
     "name": "stdout",
     "output_type": "stream",
     "text": [
      "day 1173 done\n"
     ]
    },
    {
     "name": "stderr",
     "output_type": "stream",
     "text": [
      "c:\\Users\\Hisham\\anaconda3\\lib\\site-packages\\numpy\\lib\\function_base.py:2854: RuntimeWarning: invalid value encountered in divide\n",
      "  c /= stddev[:, None]\n",
      "c:\\Users\\Hisham\\anaconda3\\lib\\site-packages\\numpy\\lib\\function_base.py:2855: RuntimeWarning: invalid value encountered in divide\n",
      "  c /= stddev[None, :]\n",
      "c:\\Users\\Hisham\\anaconda3\\lib\\site-packages\\numpy\\lib\\function_base.py:2854: RuntimeWarning: invalid value encountered in divide\n",
      "  c /= stddev[:, None]\n",
      "c:\\Users\\Hisham\\anaconda3\\lib\\site-packages\\numpy\\lib\\function_base.py:2855: RuntimeWarning: invalid value encountered in divide\n",
      "  c /= stddev[None, :]\n"
     ]
    },
    {
     "name": "stdout",
     "output_type": "stream",
     "text": [
      "day 1176 done\n"
     ]
    },
    {
     "name": "stderr",
     "output_type": "stream",
     "text": [
      "c:\\Users\\Hisham\\anaconda3\\lib\\site-packages\\numpy\\lib\\function_base.py:2854: RuntimeWarning: invalid value encountered in divide\n",
      "  c /= stddev[:, None]\n",
      "c:\\Users\\Hisham\\anaconda3\\lib\\site-packages\\numpy\\lib\\function_base.py:2855: RuntimeWarning: invalid value encountered in divide\n",
      "  c /= stddev[None, :]\n",
      "c:\\Users\\Hisham\\anaconda3\\lib\\site-packages\\numpy\\lib\\function_base.py:2854: RuntimeWarning: invalid value encountered in divide\n",
      "  c /= stddev[:, None]\n",
      "c:\\Users\\Hisham\\anaconda3\\lib\\site-packages\\numpy\\lib\\function_base.py:2855: RuntimeWarning: invalid value encountered in divide\n",
      "  c /= stddev[None, :]\n"
     ]
    },
    {
     "name": "stdout",
     "output_type": "stream",
     "text": [
      "day 1184 done\n"
     ]
    },
    {
     "name": "stderr",
     "output_type": "stream",
     "text": [
      "c:\\Users\\Hisham\\anaconda3\\lib\\site-packages\\numpy\\lib\\function_base.py:2854: RuntimeWarning: invalid value encountered in divide\n",
      "  c /= stddev[:, None]\n",
      "c:\\Users\\Hisham\\anaconda3\\lib\\site-packages\\numpy\\lib\\function_base.py:2855: RuntimeWarning: invalid value encountered in divide\n",
      "  c /= stddev[None, :]\n",
      "c:\\Users\\Hisham\\anaconda3\\lib\\site-packages\\numpy\\lib\\function_base.py:2854: RuntimeWarning: invalid value encountered in divide\n",
      "  c /= stddev[:, None]\n",
      "c:\\Users\\Hisham\\anaconda3\\lib\\site-packages\\numpy\\lib\\function_base.py:2855: RuntimeWarning: invalid value encountered in divide\n",
      "  c /= stddev[None, :]\n"
     ]
    },
    {
     "name": "stdout",
     "output_type": "stream",
     "text": [
      "day 1185 done\n"
     ]
    },
    {
     "name": "stderr",
     "output_type": "stream",
     "text": [
      "c:\\Users\\Hisham\\anaconda3\\lib\\site-packages\\numpy\\lib\\function_base.py:2854: RuntimeWarning: invalid value encountered in divide\n",
      "  c /= stddev[:, None]\n",
      "c:\\Users\\Hisham\\anaconda3\\lib\\site-packages\\numpy\\lib\\function_base.py:2855: RuntimeWarning: invalid value encountered in divide\n",
      "  c /= stddev[None, :]\n",
      "c:\\Users\\Hisham\\anaconda3\\lib\\site-packages\\numpy\\lib\\function_base.py:2854: RuntimeWarning: invalid value encountered in divide\n",
      "  c /= stddev[:, None]\n",
      "c:\\Users\\Hisham\\anaconda3\\lib\\site-packages\\numpy\\lib\\function_base.py:2855: RuntimeWarning: invalid value encountered in divide\n",
      "  c /= stddev[None, :]\n"
     ]
    },
    {
     "name": "stdout",
     "output_type": "stream",
     "text": [
      "day 1191 done\n"
     ]
    },
    {
     "name": "stderr",
     "output_type": "stream",
     "text": [
      "c:\\Users\\Hisham\\anaconda3\\lib\\site-packages\\numpy\\lib\\function_base.py:2854: RuntimeWarning: invalid value encountered in divide\n",
      "  c /= stddev[:, None]\n",
      "c:\\Users\\Hisham\\anaconda3\\lib\\site-packages\\numpy\\lib\\function_base.py:2855: RuntimeWarning: invalid value encountered in divide\n",
      "  c /= stddev[None, :]\n",
      "c:\\Users\\Hisham\\anaconda3\\lib\\site-packages\\numpy\\lib\\function_base.py:2854: RuntimeWarning: invalid value encountered in divide\n",
      "  c /= stddev[:, None]\n",
      "c:\\Users\\Hisham\\anaconda3\\lib\\site-packages\\numpy\\lib\\function_base.py:2855: RuntimeWarning: invalid value encountered in divide\n",
      "  c /= stddev[None, :]\n"
     ]
    },
    {
     "name": "stdout",
     "output_type": "stream",
     "text": [
      "day 1192 done\n"
     ]
    },
    {
     "name": "stderr",
     "output_type": "stream",
     "text": [
      "c:\\Users\\Hisham\\anaconda3\\lib\\site-packages\\numpy\\lib\\function_base.py:2854: RuntimeWarning: invalid value encountered in divide\n",
      "  c /= stddev[:, None]\n",
      "c:\\Users\\Hisham\\anaconda3\\lib\\site-packages\\numpy\\lib\\function_base.py:2855: RuntimeWarning: invalid value encountered in divide\n",
      "  c /= stddev[None, :]\n",
      "c:\\Users\\Hisham\\anaconda3\\lib\\site-packages\\numpy\\lib\\function_base.py:2854: RuntimeWarning: invalid value encountered in divide\n",
      "  c /= stddev[:, None]\n",
      "c:\\Users\\Hisham\\anaconda3\\lib\\site-packages\\numpy\\lib\\function_base.py:2855: RuntimeWarning: invalid value encountered in divide\n",
      "  c /= stddev[None, :]\n"
     ]
    },
    {
     "name": "stdout",
     "output_type": "stream",
     "text": [
      "day 1194 done\n"
     ]
    },
    {
     "name": "stderr",
     "output_type": "stream",
     "text": [
      "c:\\Users\\Hisham\\anaconda3\\lib\\site-packages\\numpy\\lib\\function_base.py:2854: RuntimeWarning: invalid value encountered in divide\n",
      "  c /= stddev[:, None]\n",
      "c:\\Users\\Hisham\\anaconda3\\lib\\site-packages\\numpy\\lib\\function_base.py:2855: RuntimeWarning: invalid value encountered in divide\n",
      "  c /= stddev[None, :]\n",
      "c:\\Users\\Hisham\\anaconda3\\lib\\site-packages\\numpy\\lib\\function_base.py:2854: RuntimeWarning: invalid value encountered in divide\n",
      "  c /= stddev[:, None]\n",
      "c:\\Users\\Hisham\\anaconda3\\lib\\site-packages\\numpy\\lib\\function_base.py:2855: RuntimeWarning: invalid value encountered in divide\n",
      "  c /= stddev[None, :]\n"
     ]
    },
    {
     "name": "stdout",
     "output_type": "stream",
     "text": [
      "day 1197 done\n"
     ]
    },
    {
     "name": "stderr",
     "output_type": "stream",
     "text": [
      "c:\\Users\\Hisham\\anaconda3\\lib\\site-packages\\numpy\\lib\\function_base.py:2854: RuntimeWarning: invalid value encountered in divide\n",
      "  c /= stddev[:, None]\n",
      "c:\\Users\\Hisham\\anaconda3\\lib\\site-packages\\numpy\\lib\\function_base.py:2855: RuntimeWarning: invalid value encountered in divide\n",
      "  c /= stddev[None, :]\n",
      "c:\\Users\\Hisham\\anaconda3\\lib\\site-packages\\numpy\\lib\\function_base.py:2854: RuntimeWarning: invalid value encountered in divide\n",
      "  c /= stddev[:, None]\n",
      "c:\\Users\\Hisham\\anaconda3\\lib\\site-packages\\numpy\\lib\\function_base.py:2855: RuntimeWarning: invalid value encountered in divide\n",
      "  c /= stddev[None, :]\n"
     ]
    },
    {
     "name": "stdout",
     "output_type": "stream",
     "text": [
      "day 1201 done\n"
     ]
    },
    {
     "name": "stderr",
     "output_type": "stream",
     "text": [
      "c:\\Users\\Hisham\\anaconda3\\lib\\site-packages\\numpy\\lib\\function_base.py:2854: RuntimeWarning: invalid value encountered in divide\n",
      "  c /= stddev[:, None]\n",
      "c:\\Users\\Hisham\\anaconda3\\lib\\site-packages\\numpy\\lib\\function_base.py:2855: RuntimeWarning: invalid value encountered in divide\n",
      "  c /= stddev[None, :]\n",
      "c:\\Users\\Hisham\\anaconda3\\lib\\site-packages\\numpy\\lib\\function_base.py:2854: RuntimeWarning: invalid value encountered in divide\n",
      "  c /= stddev[:, None]\n",
      "c:\\Users\\Hisham\\anaconda3\\lib\\site-packages\\numpy\\lib\\function_base.py:2855: RuntimeWarning: invalid value encountered in divide\n",
      "  c /= stddev[None, :]\n"
     ]
    },
    {
     "name": "stdout",
     "output_type": "stream",
     "text": [
      "day 1201 done\n"
     ]
    },
    {
     "name": "stderr",
     "output_type": "stream",
     "text": [
      "c:\\Users\\Hisham\\anaconda3\\lib\\site-packages\\numpy\\lib\\function_base.py:2854: RuntimeWarning: invalid value encountered in divide\n",
      "  c /= stddev[:, None]\n",
      "c:\\Users\\Hisham\\anaconda3\\lib\\site-packages\\numpy\\lib\\function_base.py:2855: RuntimeWarning: invalid value encountered in divide\n",
      "  c /= stddev[None, :]\n",
      "c:\\Users\\Hisham\\anaconda3\\lib\\site-packages\\numpy\\lib\\function_base.py:2854: RuntimeWarning: invalid value encountered in divide\n",
      "  c /= stddev[:, None]\n",
      "c:\\Users\\Hisham\\anaconda3\\lib\\site-packages\\numpy\\lib\\function_base.py:2855: RuntimeWarning: invalid value encountered in divide\n",
      "  c /= stddev[None, :]\n"
     ]
    },
    {
     "name": "stdout",
     "output_type": "stream",
     "text": [
      "day 1232 done\n"
     ]
    },
    {
     "name": "stderr",
     "output_type": "stream",
     "text": [
      "c:\\Users\\Hisham\\anaconda3\\lib\\site-packages\\numpy\\lib\\function_base.py:2854: RuntimeWarning: invalid value encountered in divide\n",
      "  c /= stddev[:, None]\n",
      "c:\\Users\\Hisham\\anaconda3\\lib\\site-packages\\numpy\\lib\\function_base.py:2855: RuntimeWarning: invalid value encountered in divide\n",
      "  c /= stddev[None, :]\n",
      "c:\\Users\\Hisham\\anaconda3\\lib\\site-packages\\numpy\\lib\\function_base.py:2854: RuntimeWarning: invalid value encountered in divide\n",
      "  c /= stddev[:, None]\n",
      "c:\\Users\\Hisham\\anaconda3\\lib\\site-packages\\numpy\\lib\\function_base.py:2855: RuntimeWarning: invalid value encountered in divide\n",
      "  c /= stddev[None, :]\n"
     ]
    },
    {
     "name": "stdout",
     "output_type": "stream",
     "text": [
      "day 1233 done\n"
     ]
    },
    {
     "name": "stderr",
     "output_type": "stream",
     "text": [
      "c:\\Users\\Hisham\\anaconda3\\lib\\site-packages\\numpy\\lib\\function_base.py:2854: RuntimeWarning: invalid value encountered in divide\n",
      "  c /= stddev[:, None]\n",
      "c:\\Users\\Hisham\\anaconda3\\lib\\site-packages\\numpy\\lib\\function_base.py:2855: RuntimeWarning: invalid value encountered in divide\n",
      "  c /= stddev[None, :]\n",
      "c:\\Users\\Hisham\\anaconda3\\lib\\site-packages\\numpy\\lib\\function_base.py:2854: RuntimeWarning: invalid value encountered in divide\n",
      "  c /= stddev[:, None]\n",
      "c:\\Users\\Hisham\\anaconda3\\lib\\site-packages\\numpy\\lib\\function_base.py:2855: RuntimeWarning: invalid value encountered in divide\n",
      "  c /= stddev[None, :]\n"
     ]
    },
    {
     "name": "stdout",
     "output_type": "stream",
     "text": [
      "day 1235 done\n"
     ]
    },
    {
     "name": "stderr",
     "output_type": "stream",
     "text": [
      "c:\\Users\\Hisham\\anaconda3\\lib\\site-packages\\numpy\\lib\\function_base.py:2854: RuntimeWarning: invalid value encountered in divide\n",
      "  c /= stddev[:, None]\n",
      "c:\\Users\\Hisham\\anaconda3\\lib\\site-packages\\numpy\\lib\\function_base.py:2855: RuntimeWarning: invalid value encountered in divide\n",
      "  c /= stddev[None, :]\n",
      "c:\\Users\\Hisham\\anaconda3\\lib\\site-packages\\numpy\\lib\\function_base.py:2854: RuntimeWarning: invalid value encountered in divide\n",
      "  c /= stddev[:, None]\n",
      "c:\\Users\\Hisham\\anaconda3\\lib\\site-packages\\numpy\\lib\\function_base.py:2855: RuntimeWarning: invalid value encountered in divide\n",
      "  c /= stddev[None, :]\n"
     ]
    },
    {
     "name": "stdout",
     "output_type": "stream",
     "text": [
      "day 1235 done\n"
     ]
    },
    {
     "name": "stderr",
     "output_type": "stream",
     "text": [
      "c:\\Users\\Hisham\\anaconda3\\lib\\site-packages\\numpy\\lib\\function_base.py:2854: RuntimeWarning: invalid value encountered in divide\n",
      "  c /= stddev[:, None]\n",
      "c:\\Users\\Hisham\\anaconda3\\lib\\site-packages\\numpy\\lib\\function_base.py:2855: RuntimeWarning: invalid value encountered in divide\n",
      "  c /= stddev[None, :]\n",
      "c:\\Users\\Hisham\\anaconda3\\lib\\site-packages\\numpy\\lib\\function_base.py:2854: RuntimeWarning: invalid value encountered in divide\n",
      "  c /= stddev[:, None]\n",
      "c:\\Users\\Hisham\\anaconda3\\lib\\site-packages\\numpy\\lib\\function_base.py:2855: RuntimeWarning: invalid value encountered in divide\n",
      "  c /= stddev[None, :]\n"
     ]
    },
    {
     "name": "stdout",
     "output_type": "stream",
     "text": [
      "day 1236 done\n"
     ]
    },
    {
     "name": "stderr",
     "output_type": "stream",
     "text": [
      "c:\\Users\\Hisham\\anaconda3\\lib\\site-packages\\numpy\\lib\\function_base.py:2854: RuntimeWarning: invalid value encountered in divide\n",
      "  c /= stddev[:, None]\n",
      "c:\\Users\\Hisham\\anaconda3\\lib\\site-packages\\numpy\\lib\\function_base.py:2855: RuntimeWarning: invalid value encountered in divide\n",
      "  c /= stddev[None, :]\n",
      "c:\\Users\\Hisham\\anaconda3\\lib\\site-packages\\numpy\\lib\\function_base.py:2854: RuntimeWarning: invalid value encountered in divide\n",
      "  c /= stddev[:, None]\n",
      "c:\\Users\\Hisham\\anaconda3\\lib\\site-packages\\numpy\\lib\\function_base.py:2855: RuntimeWarning: invalid value encountered in divide\n",
      "  c /= stddev[None, :]\n"
     ]
    },
    {
     "name": "stdout",
     "output_type": "stream",
     "text": [
      "day 1239 done\n"
     ]
    },
    {
     "name": "stderr",
     "output_type": "stream",
     "text": [
      "c:\\Users\\Hisham\\anaconda3\\lib\\site-packages\\numpy\\lib\\function_base.py:2854: RuntimeWarning: invalid value encountered in divide\n",
      "  c /= stddev[:, None]\n",
      "c:\\Users\\Hisham\\anaconda3\\lib\\site-packages\\numpy\\lib\\function_base.py:2855: RuntimeWarning: invalid value encountered in divide\n",
      "  c /= stddev[None, :]\n",
      "c:\\Users\\Hisham\\anaconda3\\lib\\site-packages\\numpy\\lib\\function_base.py:2854: RuntimeWarning: invalid value encountered in divide\n",
      "  c /= stddev[:, None]\n",
      "c:\\Users\\Hisham\\anaconda3\\lib\\site-packages\\numpy\\lib\\function_base.py:2855: RuntimeWarning: invalid value encountered in divide\n",
      "  c /= stddev[None, :]\n"
     ]
    },
    {
     "name": "stdout",
     "output_type": "stream",
     "text": [
      "day 1240 done\n"
     ]
    },
    {
     "name": "stderr",
     "output_type": "stream",
     "text": [
      "c:\\Users\\Hisham\\anaconda3\\lib\\site-packages\\numpy\\lib\\function_base.py:2854: RuntimeWarning: invalid value encountered in divide\n",
      "  c /= stddev[:, None]\n",
      "c:\\Users\\Hisham\\anaconda3\\lib\\site-packages\\numpy\\lib\\function_base.py:2855: RuntimeWarning: invalid value encountered in divide\n",
      "  c /= stddev[None, :]\n",
      "c:\\Users\\Hisham\\anaconda3\\lib\\site-packages\\numpy\\lib\\function_base.py:2854: RuntimeWarning: invalid value encountered in divide\n",
      "  c /= stddev[:, None]\n",
      "c:\\Users\\Hisham\\anaconda3\\lib\\site-packages\\numpy\\lib\\function_base.py:2855: RuntimeWarning: invalid value encountered in divide\n",
      "  c /= stddev[None, :]\n"
     ]
    },
    {
     "name": "stdout",
     "output_type": "stream",
     "text": [
      "day 1241 done\n"
     ]
    },
    {
     "name": "stderr",
     "output_type": "stream",
     "text": [
      "c:\\Users\\Hisham\\anaconda3\\lib\\site-packages\\numpy\\lib\\function_base.py:2854: RuntimeWarning: invalid value encountered in divide\n",
      "  c /= stddev[:, None]\n",
      "c:\\Users\\Hisham\\anaconda3\\lib\\site-packages\\numpy\\lib\\function_base.py:2855: RuntimeWarning: invalid value encountered in divide\n",
      "  c /= stddev[None, :]\n",
      "c:\\Users\\Hisham\\anaconda3\\lib\\site-packages\\numpy\\lib\\function_base.py:2854: RuntimeWarning: invalid value encountered in divide\n",
      "  c /= stddev[:, None]\n",
      "c:\\Users\\Hisham\\anaconda3\\lib\\site-packages\\numpy\\lib\\function_base.py:2855: RuntimeWarning: invalid value encountered in divide\n",
      "  c /= stddev[None, :]\n"
     ]
    },
    {
     "name": "stdout",
     "output_type": "stream",
     "text": [
      "day 1242 done\n"
     ]
    },
    {
     "name": "stderr",
     "output_type": "stream",
     "text": [
      "c:\\Users\\Hisham\\anaconda3\\lib\\site-packages\\numpy\\lib\\function_base.py:2854: RuntimeWarning: invalid value encountered in divide\n",
      "  c /= stddev[:, None]\n",
      "c:\\Users\\Hisham\\anaconda3\\lib\\site-packages\\numpy\\lib\\function_base.py:2855: RuntimeWarning: invalid value encountered in divide\n",
      "  c /= stddev[None, :]\n",
      "c:\\Users\\Hisham\\anaconda3\\lib\\site-packages\\numpy\\lib\\function_base.py:2854: RuntimeWarning: invalid value encountered in divide\n",
      "  c /= stddev[:, None]\n",
      "c:\\Users\\Hisham\\anaconda3\\lib\\site-packages\\numpy\\lib\\function_base.py:2855: RuntimeWarning: invalid value encountered in divide\n",
      "  c /= stddev[None, :]\n",
      "c:\\Users\\Hisham\\anaconda3\\lib\\site-packages\\numpy\\lib\\function_base.py:2854: RuntimeWarning: invalid value encountered in divide\n",
      "  c /= stddev[:, None]\n",
      "c:\\Users\\Hisham\\anaconda3\\lib\\site-packages\\numpy\\lib\\function_base.py:2855: RuntimeWarning: invalid value encountered in divide\n",
      "  c /= stddev[None, :]\n",
      "c:\\Users\\Hisham\\anaconda3\\lib\\site-packages\\numpy\\lib\\function_base.py:2854: RuntimeWarning: invalid value encountered in divide\n",
      "  c /= stddev[:, None]\n",
      "c:\\Users\\Hisham\\anaconda3\\lib\\site-packages\\numpy\\lib\\function_base.py:2855: RuntimeWarning: invalid value encountered in divide\n",
      "  c /= stddev[None, :]\n",
      "c:\\Users\\Hisham\\anaconda3\\lib\\site-packages\\numpy\\lib\\function_base.py:2854: RuntimeWarning: invalid value encountered in divide\n",
      "  c /= stddev[:, None]\n",
      "c:\\Users\\Hisham\\anaconda3\\lib\\site-packages\\numpy\\lib\\function_base.py:2855: RuntimeWarning: invalid value encountered in divide\n",
      "  c /= stddev[None, :]\n",
      "c:\\Users\\Hisham\\anaconda3\\lib\\site-packages\\numpy\\lib\\function_base.py:2854: RuntimeWarning: invalid value encountered in divide\n",
      "  c /= stddev[:, None]\n",
      "c:\\Users\\Hisham\\anaconda3\\lib\\site-packages\\numpy\\lib\\function_base.py:2855: RuntimeWarning: invalid value encountered in divide\n",
      "  c /= stddev[None, :]\n",
      "c:\\Users\\Hisham\\anaconda3\\lib\\site-packages\\numpy\\lib\\function_base.py:2854: RuntimeWarning: invalid value encountered in divide\n",
      "  c /= stddev[:, None]\n",
      "c:\\Users\\Hisham\\anaconda3\\lib\\site-packages\\numpy\\lib\\function_base.py:2855: RuntimeWarning: invalid value encountered in divide\n",
      "  c /= stddev[None, :]\n",
      "c:\\Users\\Hisham\\anaconda3\\lib\\site-packages\\numpy\\lib\\function_base.py:2854: RuntimeWarning: invalid value encountered in divide\n",
      "  c /= stddev[:, None]\n",
      "c:\\Users\\Hisham\\anaconda3\\lib\\site-packages\\numpy\\lib\\function_base.py:2855: RuntimeWarning: invalid value encountered in divide\n",
      "  c /= stddev[None, :]\n",
      "c:\\Users\\Hisham\\anaconda3\\lib\\site-packages\\numpy\\lib\\function_base.py:2854: RuntimeWarning: invalid value encountered in divide\n",
      "  c /= stddev[:, None]\n",
      "c:\\Users\\Hisham\\anaconda3\\lib\\site-packages\\numpy\\lib\\function_base.py:2855: RuntimeWarning: invalid value encountered in divide\n",
      "  c /= stddev[None, :]\n",
      "c:\\Users\\Hisham\\anaconda3\\lib\\site-packages\\numpy\\lib\\function_base.py:2854: RuntimeWarning: invalid value encountered in divide\n",
      "  c /= stddev[:, None]\n",
      "c:\\Users\\Hisham\\anaconda3\\lib\\site-packages\\numpy\\lib\\function_base.py:2855: RuntimeWarning: invalid value encountered in divide\n",
      "  c /= stddev[None, :]\n",
      "c:\\Users\\Hisham\\anaconda3\\lib\\site-packages\\numpy\\lib\\function_base.py:2854: RuntimeWarning: invalid value encountered in divide\n",
      "  c /= stddev[:, None]\n",
      "c:\\Users\\Hisham\\anaconda3\\lib\\site-packages\\numpy\\lib\\function_base.py:2855: RuntimeWarning: invalid value encountered in divide\n",
      "  c /= stddev[None, :]\n",
      "c:\\Users\\Hisham\\anaconda3\\lib\\site-packages\\numpy\\lib\\function_base.py:2854: RuntimeWarning: invalid value encountered in divide\n",
      "  c /= stddev[:, None]\n",
      "c:\\Users\\Hisham\\anaconda3\\lib\\site-packages\\numpy\\lib\\function_base.py:2855: RuntimeWarning: invalid value encountered in divide\n",
      "  c /= stddev[None, :]\n",
      "c:\\Users\\Hisham\\anaconda3\\lib\\site-packages\\numpy\\lib\\function_base.py:2854: RuntimeWarning: invalid value encountered in divide\n",
      "  c /= stddev[:, None]\n",
      "c:\\Users\\Hisham\\anaconda3\\lib\\site-packages\\numpy\\lib\\function_base.py:2855: RuntimeWarning: invalid value encountered in divide\n",
      "  c /= stddev[None, :]\n",
      "c:\\Users\\Hisham\\anaconda3\\lib\\site-packages\\numpy\\lib\\function_base.py:2854: RuntimeWarning: invalid value encountered in divide\n",
      "  c /= stddev[:, None]\n",
      "c:\\Users\\Hisham\\anaconda3\\lib\\site-packages\\numpy\\lib\\function_base.py:2855: RuntimeWarning: invalid value encountered in divide\n",
      "  c /= stddev[None, :]\n",
      "c:\\Users\\Hisham\\anaconda3\\lib\\site-packages\\numpy\\lib\\function_base.py:2854: RuntimeWarning: invalid value encountered in divide\n",
      "  c /= stddev[:, None]\n",
      "c:\\Users\\Hisham\\anaconda3\\lib\\site-packages\\numpy\\lib\\function_base.py:2855: RuntimeWarning: invalid value encountered in divide\n",
      "  c /= stddev[None, :]\n",
      "c:\\Users\\Hisham\\anaconda3\\lib\\site-packages\\numpy\\lib\\function_base.py:2854: RuntimeWarning: invalid value encountered in divide\n",
      "  c /= stddev[:, None]\n",
      "c:\\Users\\Hisham\\anaconda3\\lib\\site-packages\\numpy\\lib\\function_base.py:2855: RuntimeWarning: invalid value encountered in divide\n",
      "  c /= stddev[None, :]\n",
      "c:\\Users\\Hisham\\anaconda3\\lib\\site-packages\\numpy\\lib\\function_base.py:2854: RuntimeWarning: invalid value encountered in divide\n",
      "  c /= stddev[:, None]\n",
      "c:\\Users\\Hisham\\anaconda3\\lib\\site-packages\\numpy\\lib\\function_base.py:2855: RuntimeWarning: invalid value encountered in divide\n",
      "  c /= stddev[None, :]\n",
      "c:\\Users\\Hisham\\anaconda3\\lib\\site-packages\\numpy\\lib\\function_base.py:2854: RuntimeWarning: invalid value encountered in divide\n",
      "  c /= stddev[:, None]\n",
      "c:\\Users\\Hisham\\anaconda3\\lib\\site-packages\\numpy\\lib\\function_base.py:2855: RuntimeWarning: invalid value encountered in divide\n",
      "  c /= stddev[None, :]\n",
      "c:\\Users\\Hisham\\anaconda3\\lib\\site-packages\\numpy\\lib\\function_base.py:2854: RuntimeWarning: invalid value encountered in divide\n",
      "  c /= stddev[:, None]\n",
      "c:\\Users\\Hisham\\anaconda3\\lib\\site-packages\\numpy\\lib\\function_base.py:2855: RuntimeWarning: invalid value encountered in divide\n",
      "  c /= stddev[None, :]\n",
      "c:\\Users\\Hisham\\anaconda3\\lib\\site-packages\\numpy\\lib\\function_base.py:2854: RuntimeWarning: invalid value encountered in divide\n",
      "  c /= stddev[:, None]\n",
      "c:\\Users\\Hisham\\anaconda3\\lib\\site-packages\\numpy\\lib\\function_base.py:2855: RuntimeWarning: invalid value encountered in divide\n",
      "  c /= stddev[None, :]\n",
      "c:\\Users\\Hisham\\anaconda3\\lib\\site-packages\\numpy\\lib\\function_base.py:2854: RuntimeWarning: invalid value encountered in divide\n",
      "  c /= stddev[:, None]\n",
      "c:\\Users\\Hisham\\anaconda3\\lib\\site-packages\\numpy\\lib\\function_base.py:2855: RuntimeWarning: invalid value encountered in divide\n",
      "  c /= stddev[None, :]\n",
      "c:\\Users\\Hisham\\anaconda3\\lib\\site-packages\\numpy\\lib\\function_base.py:2854: RuntimeWarning: invalid value encountered in divide\n",
      "  c /= stddev[:, None]\n",
      "c:\\Users\\Hisham\\anaconda3\\lib\\site-packages\\numpy\\lib\\function_base.py:2855: RuntimeWarning: invalid value encountered in divide\n",
      "  c /= stddev[None, :]\n",
      "c:\\Users\\Hisham\\anaconda3\\lib\\site-packages\\numpy\\lib\\function_base.py:2854: RuntimeWarning: invalid value encountered in divide\n",
      "  c /= stddev[:, None]\n",
      "c:\\Users\\Hisham\\anaconda3\\lib\\site-packages\\numpy\\lib\\function_base.py:2855: RuntimeWarning: invalid value encountered in divide\n",
      "  c /= stddev[None, :]\n",
      "c:\\Users\\Hisham\\anaconda3\\lib\\site-packages\\numpy\\lib\\function_base.py:2854: RuntimeWarning: invalid value encountered in divide\n",
      "  c /= stddev[:, None]\n",
      "c:\\Users\\Hisham\\anaconda3\\lib\\site-packages\\numpy\\lib\\function_base.py:2855: RuntimeWarning: invalid value encountered in divide\n",
      "  c /= stddev[None, :]\n",
      "c:\\Users\\Hisham\\anaconda3\\lib\\site-packages\\numpy\\lib\\function_base.py:2854: RuntimeWarning: invalid value encountered in divide\n",
      "  c /= stddev[:, None]\n",
      "c:\\Users\\Hisham\\anaconda3\\lib\\site-packages\\numpy\\lib\\function_base.py:2855: RuntimeWarning: invalid value encountered in divide\n",
      "  c /= stddev[None, :]\n",
      "c:\\Users\\Hisham\\anaconda3\\lib\\site-packages\\numpy\\lib\\function_base.py:2854: RuntimeWarning: invalid value encountered in divide\n",
      "  c /= stddev[:, None]\n",
      "c:\\Users\\Hisham\\anaconda3\\lib\\site-packages\\numpy\\lib\\function_base.py:2855: RuntimeWarning: invalid value encountered in divide\n",
      "  c /= stddev[None, :]\n",
      "c:\\Users\\Hisham\\anaconda3\\lib\\site-packages\\numpy\\lib\\function_base.py:2854: RuntimeWarning: invalid value encountered in divide\n",
      "  c /= stddev[:, None]\n",
      "c:\\Users\\Hisham\\anaconda3\\lib\\site-packages\\numpy\\lib\\function_base.py:2855: RuntimeWarning: invalid value encountered in divide\n",
      "  c /= stddev[None, :]\n",
      "c:\\Users\\Hisham\\anaconda3\\lib\\site-packages\\numpy\\lib\\function_base.py:2854: RuntimeWarning: invalid value encountered in divide\n",
      "  c /= stddev[:, None]\n",
      "c:\\Users\\Hisham\\anaconda3\\lib\\site-packages\\numpy\\lib\\function_base.py:2855: RuntimeWarning: invalid value encountered in divide\n",
      "  c /= stddev[None, :]\n",
      "c:\\Users\\Hisham\\anaconda3\\lib\\site-packages\\numpy\\lib\\function_base.py:2854: RuntimeWarning: invalid value encountered in divide\n",
      "  c /= stddev[:, None]\n",
      "c:\\Users\\Hisham\\anaconda3\\lib\\site-packages\\numpy\\lib\\function_base.py:2855: RuntimeWarning: invalid value encountered in divide\n",
      "  c /= stddev[None, :]\n",
      "c:\\Users\\Hisham\\anaconda3\\lib\\site-packages\\numpy\\lib\\function_base.py:2854: RuntimeWarning: invalid value encountered in divide\n",
      "  c /= stddev[:, None]\n",
      "c:\\Users\\Hisham\\anaconda3\\lib\\site-packages\\numpy\\lib\\function_base.py:2855: RuntimeWarning: invalid value encountered in divide\n",
      "  c /= stddev[None, :]\n",
      "c:\\Users\\Hisham\\anaconda3\\lib\\site-packages\\numpy\\lib\\function_base.py:2854: RuntimeWarning: invalid value encountered in divide\n",
      "  c /= stddev[:, None]\n",
      "c:\\Users\\Hisham\\anaconda3\\lib\\site-packages\\numpy\\lib\\function_base.py:2855: RuntimeWarning: invalid value encountered in divide\n",
      "  c /= stddev[None, :]\n",
      "c:\\Users\\Hisham\\anaconda3\\lib\\site-packages\\numpy\\lib\\function_base.py:2854: RuntimeWarning: invalid value encountered in divide\n",
      "  c /= stddev[:, None]\n",
      "c:\\Users\\Hisham\\anaconda3\\lib\\site-packages\\numpy\\lib\\function_base.py:2855: RuntimeWarning: invalid value encountered in divide\n",
      "  c /= stddev[None, :]\n",
      "c:\\Users\\Hisham\\anaconda3\\lib\\site-packages\\numpy\\lib\\function_base.py:2854: RuntimeWarning: invalid value encountered in divide\n",
      "  c /= stddev[:, None]\n",
      "c:\\Users\\Hisham\\anaconda3\\lib\\site-packages\\numpy\\lib\\function_base.py:2855: RuntimeWarning: invalid value encountered in divide\n",
      "  c /= stddev[None, :]\n",
      "c:\\Users\\Hisham\\anaconda3\\lib\\site-packages\\numpy\\lib\\function_base.py:2854: RuntimeWarning: invalid value encountered in divide\n",
      "  c /= stddev[:, None]\n",
      "c:\\Users\\Hisham\\anaconda3\\lib\\site-packages\\numpy\\lib\\function_base.py:2855: RuntimeWarning: invalid value encountered in divide\n",
      "  c /= stddev[None, :]\n",
      "c:\\Users\\Hisham\\anaconda3\\lib\\site-packages\\numpy\\lib\\function_base.py:2854: RuntimeWarning: invalid value encountered in divide\n",
      "  c /= stddev[:, None]\n",
      "c:\\Users\\Hisham\\anaconda3\\lib\\site-packages\\numpy\\lib\\function_base.py:2855: RuntimeWarning: invalid value encountered in divide\n",
      "  c /= stddev[None, :]\n",
      "c:\\Users\\Hisham\\anaconda3\\lib\\site-packages\\numpy\\lib\\function_base.py:2854: RuntimeWarning: invalid value encountered in divide\n",
      "  c /= stddev[:, None]\n",
      "c:\\Users\\Hisham\\anaconda3\\lib\\site-packages\\numpy\\lib\\function_base.py:2855: RuntimeWarning: invalid value encountered in divide\n",
      "  c /= stddev[None, :]\n",
      "c:\\Users\\Hisham\\anaconda3\\lib\\site-packages\\numpy\\lib\\function_base.py:2854: RuntimeWarning: invalid value encountered in divide\n",
      "  c /= stddev[:, None]\n",
      "c:\\Users\\Hisham\\anaconda3\\lib\\site-packages\\numpy\\lib\\function_base.py:2855: RuntimeWarning: invalid value encountered in divide\n",
      "  c /= stddev[None, :]\n",
      "c:\\Users\\Hisham\\anaconda3\\lib\\site-packages\\numpy\\lib\\function_base.py:2854: RuntimeWarning: invalid value encountered in divide\n",
      "  c /= stddev[:, None]\n",
      "c:\\Users\\Hisham\\anaconda3\\lib\\site-packages\\numpy\\lib\\function_base.py:2855: RuntimeWarning: invalid value encountered in divide\n",
      "  c /= stddev[None, :]\n",
      "c:\\Users\\Hisham\\anaconda3\\lib\\site-packages\\numpy\\lib\\function_base.py:2854: RuntimeWarning: invalid value encountered in divide\n",
      "  c /= stddev[:, None]\n",
      "c:\\Users\\Hisham\\anaconda3\\lib\\site-packages\\numpy\\lib\\function_base.py:2855: RuntimeWarning: invalid value encountered in divide\n",
      "  c /= stddev[None, :]\n",
      "c:\\Users\\Hisham\\anaconda3\\lib\\site-packages\\numpy\\lib\\function_base.py:2854: RuntimeWarning: invalid value encountered in divide\n",
      "  c /= stddev[:, None]\n",
      "c:\\Users\\Hisham\\anaconda3\\lib\\site-packages\\numpy\\lib\\function_base.py:2855: RuntimeWarning: invalid value encountered in divide\n",
      "  c /= stddev[None, :]\n",
      "c:\\Users\\Hisham\\anaconda3\\lib\\site-packages\\numpy\\lib\\function_base.py:2854: RuntimeWarning: invalid value encountered in divide\n",
      "  c /= stddev[:, None]\n",
      "c:\\Users\\Hisham\\anaconda3\\lib\\site-packages\\numpy\\lib\\function_base.py:2855: RuntimeWarning: invalid value encountered in divide\n",
      "  c /= stddev[None, :]\n",
      "c:\\Users\\Hisham\\anaconda3\\lib\\site-packages\\numpy\\lib\\function_base.py:2854: RuntimeWarning: invalid value encountered in divide\n",
      "  c /= stddev[:, None]\n",
      "c:\\Users\\Hisham\\anaconda3\\lib\\site-packages\\numpy\\lib\\function_base.py:2855: RuntimeWarning: invalid value encountered in divide\n",
      "  c /= stddev[None, :]\n",
      "c:\\Users\\Hisham\\anaconda3\\lib\\site-packages\\numpy\\lib\\function_base.py:2854: RuntimeWarning: invalid value encountered in divide\n",
      "  c /= stddev[:, None]\n",
      "c:\\Users\\Hisham\\anaconda3\\lib\\site-packages\\numpy\\lib\\function_base.py:2855: RuntimeWarning: invalid value encountered in divide\n",
      "  c /= stddev[None, :]\n",
      "c:\\Users\\Hisham\\anaconda3\\lib\\site-packages\\numpy\\lib\\function_base.py:2854: RuntimeWarning: invalid value encountered in divide\n",
      "  c /= stddev[:, None]\n",
      "c:\\Users\\Hisham\\anaconda3\\lib\\site-packages\\numpy\\lib\\function_base.py:2855: RuntimeWarning: invalid value encountered in divide\n",
      "  c /= stddev[None, :]\n",
      "c:\\Users\\Hisham\\anaconda3\\lib\\site-packages\\numpy\\lib\\function_base.py:2854: RuntimeWarning: invalid value encountered in divide\n",
      "  c /= stddev[:, None]\n",
      "c:\\Users\\Hisham\\anaconda3\\lib\\site-packages\\numpy\\lib\\function_base.py:2855: RuntimeWarning: invalid value encountered in divide\n",
      "  c /= stddev[None, :]\n",
      "c:\\Users\\Hisham\\anaconda3\\lib\\site-packages\\numpy\\lib\\function_base.py:2854: RuntimeWarning: invalid value encountered in divide\n",
      "  c /= stddev[:, None]\n",
      "c:\\Users\\Hisham\\anaconda3\\lib\\site-packages\\numpy\\lib\\function_base.py:2855: RuntimeWarning: invalid value encountered in divide\n",
      "  c /= stddev[None, :]\n",
      "c:\\Users\\Hisham\\anaconda3\\lib\\site-packages\\numpy\\lib\\function_base.py:2854: RuntimeWarning: invalid value encountered in divide\n",
      "  c /= stddev[:, None]\n",
      "c:\\Users\\Hisham\\anaconda3\\lib\\site-packages\\numpy\\lib\\function_base.py:2855: RuntimeWarning: invalid value encountered in divide\n",
      "  c /= stddev[None, :]\n",
      "c:\\Users\\Hisham\\anaconda3\\lib\\site-packages\\numpy\\lib\\function_base.py:2854: RuntimeWarning: invalid value encountered in divide\n",
      "  c /= stddev[:, None]\n",
      "c:\\Users\\Hisham\\anaconda3\\lib\\site-packages\\numpy\\lib\\function_base.py:2855: RuntimeWarning: invalid value encountered in divide\n",
      "  c /= stddev[None, :]\n",
      "c:\\Users\\Hisham\\anaconda3\\lib\\site-packages\\numpy\\lib\\function_base.py:2854: RuntimeWarning: invalid value encountered in divide\n",
      "  c /= stddev[:, None]\n",
      "c:\\Users\\Hisham\\anaconda3\\lib\\site-packages\\numpy\\lib\\function_base.py:2855: RuntimeWarning: invalid value encountered in divide\n",
      "  c /= stddev[None, :]\n",
      "c:\\Users\\Hisham\\anaconda3\\lib\\site-packages\\numpy\\lib\\function_base.py:2854: RuntimeWarning: invalid value encountered in divide\n",
      "  c /= stddev[:, None]\n",
      "c:\\Users\\Hisham\\anaconda3\\lib\\site-packages\\numpy\\lib\\function_base.py:2855: RuntimeWarning: invalid value encountered in divide\n",
      "  c /= stddev[None, :]\n",
      "c:\\Users\\Hisham\\anaconda3\\lib\\site-packages\\numpy\\lib\\function_base.py:2854: RuntimeWarning: invalid value encountered in divide\n",
      "  c /= stddev[:, None]\n",
      "c:\\Users\\Hisham\\anaconda3\\lib\\site-packages\\numpy\\lib\\function_base.py:2855: RuntimeWarning: invalid value encountered in divide\n",
      "  c /= stddev[None, :]\n",
      "c:\\Users\\Hisham\\anaconda3\\lib\\site-packages\\numpy\\lib\\function_base.py:2854: RuntimeWarning: invalid value encountered in divide\n",
      "  c /= stddev[:, None]\n",
      "c:\\Users\\Hisham\\anaconda3\\lib\\site-packages\\numpy\\lib\\function_base.py:2855: RuntimeWarning: invalid value encountered in divide\n",
      "  c /= stddev[None, :]\n",
      "c:\\Users\\Hisham\\anaconda3\\lib\\site-packages\\numpy\\lib\\function_base.py:2854: RuntimeWarning: invalid value encountered in divide\n",
      "  c /= stddev[:, None]\n",
      "c:\\Users\\Hisham\\anaconda3\\lib\\site-packages\\numpy\\lib\\function_base.py:2855: RuntimeWarning: invalid value encountered in divide\n",
      "  c /= stddev[None, :]\n",
      "c:\\Users\\Hisham\\anaconda3\\lib\\site-packages\\numpy\\lib\\function_base.py:2854: RuntimeWarning: invalid value encountered in divide\n",
      "  c /= stddev[:, None]\n",
      "c:\\Users\\Hisham\\anaconda3\\lib\\site-packages\\numpy\\lib\\function_base.py:2855: RuntimeWarning: invalid value encountered in divide\n",
      "  c /= stddev[None, :]\n",
      "c:\\Users\\Hisham\\anaconda3\\lib\\site-packages\\numpy\\lib\\function_base.py:2854: RuntimeWarning: invalid value encountered in divide\n",
      "  c /= stddev[:, None]\n",
      "c:\\Users\\Hisham\\anaconda3\\lib\\site-packages\\numpy\\lib\\function_base.py:2855: RuntimeWarning: invalid value encountered in divide\n",
      "  c /= stddev[None, :]\n",
      "c:\\Users\\Hisham\\anaconda3\\lib\\site-packages\\numpy\\lib\\function_base.py:2854: RuntimeWarning: invalid value encountered in divide\n",
      "  c /= stddev[:, None]\n",
      "c:\\Users\\Hisham\\anaconda3\\lib\\site-packages\\numpy\\lib\\function_base.py:2855: RuntimeWarning: invalid value encountered in divide\n",
      "  c /= stddev[None, :]\n"
     ]
    },
    {
     "name": "stdout",
     "output_type": "stream",
     "text": [
      "day 1248 done\n",
      "day 1380 done\n"
     ]
    }
   ],
   "source": [
    "results_dict = {\n",
    "    'relative_day':[],\n",
    "    'decoder':[],\n",
    "    'average_r2':[],\n",
    "    'average_corr':[],\n",
    "    'average_mse':[],\n",
    "    'relative_corr':[],\n",
    "    'relative_r2':[],\n",
    "    'relative_mse':[]\n",
    "}\n",
    "# dates_to_exclude = ['2020-08-31', '2021-05-19', '2022-05-31', '2022-06-23', '2022-10-21', '2021-02-02', \n",
    "#                     '2021-08-17', '2021-03-10']\n",
    "\n",
    "dates_to_exclude = ['2023-09-26']\n",
    "\n",
    "# get relative days\n",
    "filenames = os.listdir(data_folder)\n",
    "dates = [x.split('_')[1] for x in filenames]\n",
    "relative_days = np.asarray([(datetime.datetime.strptime(day, '%Y-%m-%d') - datetime.datetime.strptime(dates[0], '%Y-%m-%d')).days for day in dates])\n",
    "\n",
    "for filename, current_day in zip(filenames, relative_days):\n",
    "    \n",
    "    # load data for the day\n",
    "    with open(os.path.join(data_folder, filename), 'rb') as f:\n",
    "        feats = pickle.load(f)\n",
    "    pdb.set_trace()\n",
    "    if feats[\"Date\"] in dates_to_exclude:\n",
    "        continue\n",
    "\n",
    "    neural_train, neural_test, neural_train3D, neural_test3D, finger_train, finger_test = dataPrep(feats, 4)\n",
    "\n",
    "    # load model for the day\n",
    "    model_output = os.path.join(source_folder, 'models',f\"{feats['Date']}_models.pkl\")\n",
    "    with open(model_output, 'rb') as f:\n",
    "        reg, nn_model, scaler = pickle.load(f)\n",
    "\n",
    "    # get prediction on test data for the day\n",
    "    rr_prediction = reg.predict(neural_test)\n",
    "    nn_model.eval()\n",
    "    nn_prediction = scaler.scale(nn_model(torch.from_numpy(neural_test3D).to(torch.float))).cpu().detach().numpy() \n",
    "\n",
    "    # get all days within k days of this one\n",
    "    k = 100\n",
    "    day_indices = np.argwhere(np.abs(relative_days - current_day) <= k).flatten()\n",
    "\n",
    "    predictions = (rr_prediction, nn_prediction)\n",
    "    labels = ('rr','nn')\n",
    "    day0 = {\n",
    "        'rr':{},\n",
    "        'nn':{}\n",
    "    }\n",
    "    for label, pred in zip(labels, predictions):\n",
    "        corr0 = np.mean(np.diag(np.corrcoef(finger_test, pred, rowvar = False)[0:4, 4:8]))\n",
    "        r20 = r2_score(finger_test, pred)\n",
    "        mse0 = mean_squared_error(finger_test, pred)\n",
    "\n",
    "        results_dict['relative_day'].append(0)\n",
    "        results_dict['decoder'].append(label)\n",
    "        results_dict['average_r2'].append(r20)\n",
    "        results_dict['relative_r2'].append(0)\n",
    "\n",
    "        results_dict['average_corr'].append(corr0)\n",
    "        results_dict['relative_corr'].append(0)\n",
    "\n",
    "        results_dict['average_mse'].append(mse0)\n",
    "        results_dict['relative_mse'].append(0)\n",
    "\n",
    "        day0[label]['corr'] = corr0\n",
    "        day0[label]['r2'] = r20\n",
    "        day0[label]['mse'] = mse0\n",
    "\n",
    "    for i in day_indices:\n",
    "        #load data for day k\n",
    "        with open(os.path.join(data_folder, filenames[i]), 'rb') as f:\n",
    "            other_feats = pickle.load(f)\n",
    "        neural_train_2, neural_test_2, neural_train3D_2, neural_test3D_2, finger_train_2, finger_test_2 = dataPrep(other_feats, 4)\n",
    "\n",
    "        # relative day from day 0\n",
    "        relative_to_current_day = relative_days[i] - current_day\n",
    "\n",
    "        # get model prediction for that day\n",
    "        rr_prediction = reg.predict(neural_test_2)\n",
    "        nn_model.eval()\n",
    "        nn_prediction = scaler.scale(nn_model(torch.from_numpy(neural_test3D_2).to(torch.float))).cpu().detach().numpy()\n",
    "\n",
    "        # calculate metrics\n",
    "        predictions = (rr_prediction, nn_prediction)\n",
    "        labels = ('rr','nn')\n",
    "        for label, pred in zip(labels, predictions):\n",
    "            corr = np.mean(np.diag(np.corrcoef(finger_test_2, pred, rowvar = False)[0:4, 4:8]))\n",
    "            r2 = r2_score(finger_test_2, pred)\n",
    "            mse = mean_squared_error(finger_test_2, pred)\n",
    "\n",
    "            results_dict['relative_day'].append(relative_to_current_day)\n",
    "            results_dict['decoder'].append(label)\n",
    "            results_dict['average_r2'].append(r2)\n",
    "            results_dict['relative_r2'].append(r2 - day0[label]['r2'])\n",
    "\n",
    "            results_dict['average_corr'].append(corr)\n",
    "            results_dict['relative_corr'].append(corr - day0[label]['corr'])\n",
    "\n",
    "            results_dict['average_mse'].append(mse)\n",
    "            results_dict['relative_mse'].append(mse - day0[label]['mse'])\n",
    "    print(f'day {current_day} done')"
   ]
  },
  {
   "cell_type": "code",
   "execution_count": 4,
   "id": "e17bc800",
   "metadata": {},
   "outputs": [
    {
     "name": "stdout",
     "output_type": "stream",
     "text": [
      "[55964, 55964, 55964, 55964, 55964, 55964, 55964, 55964]\n"
     ]
    }
   ],
   "source": [
    "print([len(results_dict[x]) for x in results_dict.keys()])\n",
    "results_df = pd.DataFrame(results_dict)\n",
    "\n",
    "with open(os.path.join(source_folder,'results_short_term.pkl'),'wb') as f:\n",
    "    pickle.dump(results_df, f)"
   ]
  },
  {
   "cell_type": "code",
   "execution_count": 6,
   "id": "f9dd23fc",
   "metadata": {},
   "outputs": [],
   "source": [
    "with open(os.path.join(source_folder,'results_short_term.pkl'),'rb') as f:\n",
    "    results_df = pickle.load(f)"
   ]
  },
  {
   "cell_type": "code",
   "execution_count": 10,
   "id": "d6581eaf",
   "metadata": {},
   "outputs": [
    {
     "data": {
      "text/plain": [
       "<matplotlib.legend.Legend at 0x2c38bd16a00>"
      ]
     },
     "execution_count": 10,
     "metadata": {},
     "output_type": "execute_result"
    },
    {
     "data": {
      "image/png": "[encoded data removed]",
      "text/plain": [
       "<Figure size 640x480 with 1 Axes>"
      ]
     },
     "metadata": {},
     "output_type": "display_data"
    }
   ],
   "source": [
    "a = results_df.groupby(['relative_day','decoder']).mean()['relative_corr']\n",
    "b = results_df.groupby(['relative_day','decoder']).sem()['relative_corr']\n",
    "corr = pd.concat((a,b),axis=1,keys=['mean','sem']).groupby('decoder')\n",
    "\n",
    "fig, ax = plt.subplots(1,1)\n",
    "x = np.arange(len(corr))\n",
    "for label in ('rr', 'nn'):\n",
    "    color = 'b' if label == 'rr' else 'r'\n",
    "    means = corr.get_group(label)['mean'].to_numpy()\n",
    "    stds = corr.get_group(label)['sem'].to_numpy()\n",
    "    x = np.arange(len(means)) - k\n",
    "\n",
    "    ax.plot(x, means, f'{color}-', label=label)\n",
    "    ax.fill_between(x, means - stds, means + stds, color=color, alpha=0.2)\n",
    "\n",
    "plt.legend()"
   ]
  },
  {
   "cell_type": "markdown",
   "id": "7552fba1",
   "metadata": {},
   "source": [
    "seems like correlatoin decreases by a good amount within 10 days, more for NN than RR."
   ]
  },
  {
   "cell_type": "markdown",
   "id": "26d7fc48",
   "metadata": {},
   "source": [
    "seems to be exponential, log scale plot to check if first or second"
   ]
  },
  {
   "cell_type": "markdown",
   "id": "abb50314",
   "metadata": {},
   "source": [
    "seems to be first exponential, let's fit (one to either side)"
   ]
  },
  {
   "cell_type": "code",
   "execution_count": 13,
   "id": "34242743",
   "metadata": {},
   "outputs": [
    {
     "data": {
      "text/plain": [
       "[None]"
      ]
     },
     "execution_count": 13,
     "metadata": {},
     "output_type": "execute_result"
    },
    {
     "data": {
      "image/png": "[encoded data removed]",
      "text/plain": [
       "<Figure size 640x480 with 1 Axes>"
      ]
     },
     "metadata": {},
     "output_type": "display_data"
    }
   ],
   "source": [
    "# get abs relative\n",
    "results_df['absolute_relative_day'] = results_df['relative_day'].abs()\n",
    "\n",
    "a = results_df.groupby(['absolute_relative_day','decoder']).mean()['relative_corr']\n",
    "b = results_df.groupby(['absolute_relative_day','decoder']).sem()['relative_corr']\n",
    "corr = pd.concat((a,b),axis=1,keys=['mean','sem']).groupby('decoder')\n",
    "\n",
    "fig, ax = plt.subplots(1,1)\n",
    "x = np.arange(k+1)\n",
    "means_forexp = {}\n",
    "for label in ('rr', 'nn'):\n",
    "    color = 'b' if label == 'rr' else 'r'\n",
    "    means = corr.get_group(label)['mean'].to_numpy()\n",
    "    stds = corr.get_group(label)['sem'].to_numpy()\n",
    "\n",
    "    ax.plot(x, means, f'{color}-', label=label)\n",
    "    ax.fill_between(x, means - stds, means + stds, color=color, alpha=0.2)\n",
    "\n",
    "    # fit exponential \n",
    "    means_forexp[label] = means\n",
    "\n",
    "ax.set(xscale='log')\n",
    "    "
   ]
  },
  {
   "cell_type": "code",
   "execution_count": 14,
   "id": "b249409f",
   "metadata": {},
   "outputs": [],
   "source": [
    "a.to_csv(os.path.join(source_folder,'short_term_means.csv'))"
   ]
  },
  {
   "cell_type": "code",
   "execution_count": 15,
   "id": "bb4d53e2",
   "metadata": {},
   "outputs": [],
   "source": [
    "# fit exponential decay\n",
    "nn_means = means_forexp['nn']\n",
    "nn_offset = np.min(nn_means) - 0.0000001 #can't have divide by zero\n",
    "\n",
    "rr_means = means_forexp['rr']\n",
    "rr_offset = np.min(rr_means) - 0.0000001 #can't have divide by zero\n",
    "\n",
    "days = x\n",
    "\n",
    "def fit_exp_linear(t, y, C=0):\n",
    "    y = y - C\n",
    "    y = np.log(y)\n",
    "    K, A_log = np.polyfit(t, y, 1)\n",
    "    A = np.exp(A_log)\n",
    "    return A, K\n",
    "\n",
    "nn_A, nn_K = fit_exp_linear(days, nn_means, nn_offset)\n",
    "\n",
    "rr_A, rr_K = fit_exp_linear(days, rr_means, rr_offset)"
   ]
  },
  {
   "cell_type": "code",
   "execution_count": 27,
   "id": "49a8fffe",
   "metadata": {},
   "outputs": [
    {
     "data": {
      "text/plain": [
       "Text(0, 0.5, 'drop in correlation rel. to day 0')"
      ]
     },
     "execution_count": 27,
     "metadata": {},
     "output_type": "execute_result"
    },
    {
     "data": {
      "image/png": "[encoded data removed]",
      "text/plain": [
       "<Figure size 640x480 with 1 Axes>"
      ]
     },
     "metadata": {},
     "output_type": "display_data"
    }
   ],
   "source": [
    "exp_decay_nn = nn_A * np.exp(nn_K * x) + nn_offset\n",
    "exp_decay_rr = rr_A * np.exp(rr_K * x) + rr_offset\n",
    "\n",
    "plt.plot(days, nn_means, label='nn means',color='r')\n",
    "plt.plot(days, exp_decay_nn, label=f'${{{round(nn_A,3)}}}e^{{{round(nn_K,3)}*day}} + {round(nn_offset,3)}$',color='purple')\n",
    "plt.plot(days, rr_means, label='rr means', color='b')\n",
    "plt.plot(days, exp_decay_rr, label=f'${{{round(rr_A,3)}}}e^{{{round(rr_K,3)}*day}} + {round(rr_offset,3)}$',color='g')\n",
    "plt.legend()\n",
    "plt.title('exp decay fit on mean correlation relative to day 0')\n",
    "plt.xlabel('days from day 0')\n",
    "plt.ylabel('drop in correlation rel. to day 0')"
   ]
  },
  {
   "cell_type": "code",
   "execution_count": null,
   "id": "d24c5423",
   "metadata": {},
   "outputs": [],
   "source": []
  }
 ],
 "metadata": {
  "kernelspec": {
   "display_name": "Python 3 (ipykernel)",
   "language": "python",
   "name": "python3"
  },
  "language_info": {
   "codemirror_mode": {
    "name": "ipython",
    "version": 3
   },
   "file_extension": ".py",
   "mimetype": "text/x-python",
   "name": "python",
   "nbconvert_exporter": "python",
   "pygments_lexer": "ipython3",
   "version": "3.8.18"
  }
 },
 "nbformat": 4,
 "nbformat_minor": 5
}
