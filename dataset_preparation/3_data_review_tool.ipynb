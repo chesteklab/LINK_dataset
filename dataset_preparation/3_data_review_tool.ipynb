{
 "cells": [
  {
   "cell_type": "code",
   "execution_count": 6,
   "id": "7e280911",
   "metadata": {},
   "outputs": [
    {
     "name": "stdout",
     "output_type": "stream",
     "text": [
      "Using matplotlib backend: module://ipympl.backend_nbagg\n",
      "The autoreload extension is already loaded. To reload it, use:\n",
      "  %reload_ext autoreload\n"
     ]
    }
   ],
   "source": [
    "%matplotlib\n",
    "import matplotlib.pyplot as plt\n",
    "import pandas as pd\n",
    "pd.options.display.max_columns = None\n",
    "plt.ioff()\n",
    "import interactive_plot\n",
    "%load_ext autoreload"
   ]
  },
  {
   "cell_type": "markdown",
   "id": "d57b3c2e",
   "metadata": {},
   "source": [
    "# Data Review Tool\n",
    "\n",
    "Below is the data review tool. All code for it is contained in interactive_plot.py."
   ]
  },
  {
   "cell_type": "code",
   "execution_count": 199,
   "id": "3ccd6efe",
   "metadata": {},
   "outputs": [
    {
     "data": {
      "application/vnd.jupyter.widget-view+json": {
       "model_id": "03490a766f274f2c9655e65707a7495c",
       "version_major": 2,
       "version_minor": 0
      },
      "text/plain": [
       "neural_plot(children=(Output(layout=Layout(border_bottom='solid 1px black', border_left='solid 1px black', bor…"
      ]
     },
     "metadata": {},
     "output_type": "display_data"
    }
   ],
   "source": [
    "%autoreload 2\n",
    "plt.close('all')\n",
    "plot = interactive_plot.neural_plot()\n",
    "\n",
    "plot.start(resume=True, start_from_date='2022-08-25')"
   ]
  }
 ],
 "metadata": {
  "kernelspec": {
   "display_name": "dataset",
   "language": "python",
   "name": "python3"
  },
  "language_info": {
   "codemirror_mode": {
    "name": "ipython",
    "version": 3
   },
   "file_extension": ".py",
   "mimetype": "text/x-python",
   "name": "python",
   "nbconvert_exporter": "python",
   "pygments_lexer": "ipython3",
   "version": "3.9.21"
  }
 },
 "nbformat": 4,
 "nbformat_minor": 5
}
