{
 "cells": [
  {
   "cell_type": "code",
   "execution_count": 2,
   "id": "7e280911",
   "metadata": {},
   "outputs": [],
   "source": [
    "%matplotlib widget\n",
    "import matplotlib.pyplot as plt\n",
    "import pandas as pd\n",
    "pd.options.display.max_columns = None\n",
    "plt.ioff()\n",
    "import interactive_plot\n",
    "%load_ext autoreload"
   ]
  },
  {
   "cell_type": "markdown",
   "id": "d57b3c2e",
   "metadata": {},
   "source": [
    "# Data Review Tool\n",
    "\n",
    "Below is the data review tool. All code for it is contained in interactive_plot.py. Preprocessing was done with data_utils.py"
   ]
  },
  {
   "cell_type": "code",
   "execution_count": 3,
   "id": "3ccd6efe",
   "metadata": {},
   "outputs": [
    {
     "data": {
      "application/vnd.jupyter.widget-view+json": {
       "model_id": "e037ee416ed541c2972b3863703d3c27",
       "version_major": 2,
       "version_minor": 0
      },
      "text/plain": [
       "neural_plot(children=(Output(layout=Layout(border_bottom='solid 1px black', border_left='solid 1px black', bor…"
      ]
     },
     "metadata": {},
     "output_type": "display_data"
    },
    {
     "name": "stdout",
     "output_type": "stream",
     "text": [
      "Z:\\Student Folders\\Hisham_Temmar\\big_dataset\\2_autotrimming_and_preprocessing\\preprocessing_072024\n"
     ]
    }
   ],
   "source": [
    "%autoreload 2\n",
    "plt.close('all')\n",
    "plot = interactive_plot.neural_plot(resume=False)\n",
    "\n",
    "plot.start(resume=False)"
   ]
  },
  {
   "cell_type": "code",
   "execution_count": 7,
   "id": "5e1351ba",
   "metadata": {},
   "outputs": [],
   "source": [
    "import config\n",
    "import os\n",
    "import pickle\n",
    "with open(os.path.join(config.preprocessingpath, '2020-02-06_plotpreprocess.pkl'), 'rb') as f:\n",
    "            data_CO, data_RD = pickle.load(f)"
   ]
  },
  {
   "cell_type": "code",
   "execution_count": 10,
   "id": "6bb8114c",
   "metadata": {},
   "outputs": [
    {
     "data": {
      "text/plain": [
       "array([[0., 0., 0., ..., 0., 0., 0.],\n",
       "       [0., 0., 0., ..., 0., 0., 0.],\n",
       "       [0., 0., 0., ..., 0., 0., 0.],\n",
       "       ...,\n",
       "       [0., 0., 0., ..., 0., 0., 0.],\n",
       "       [0., 0., 0., ..., 0., 0., 0.],\n",
       "       [0., 0., 0., ..., 0., 0., 0.]])"
      ]
     },
     "execution_count": 10,
     "metadata": {},
     "output_type": "execute_result"
    }
   ],
   "source": [
    "data_CO['tcfr']"
   ]
  },
  {
   "cell_type": "code",
   "execution_count": null,
   "id": "90111791",
   "metadata": {},
   "outputs": [],
   "source": []
  }
 ],
 "metadata": {
  "kernelspec": {
   "display_name": "Python 3 (ipykernel)",
   "language": "python",
   "name": "python3"
  },
  "language_info": {
   "codemirror_mode": {
    "name": "ipython",
    "version": 3
   },
   "file_extension": ".py",
   "mimetype": "text/x-python",
   "name": "python",
   "nbconvert_exporter": "python",
   "pygments_lexer": "ipython3",
   "version": "3.8.18"
  }
 },
 "nbformat": 4,
 "nbformat_minor": 5
}
