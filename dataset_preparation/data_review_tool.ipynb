{
 "cells": [
  {
   "cell_type": "code",
   "execution_count": 1,
   "id": "7e280911",
   "metadata": {},
   "outputs": [
    {
     "name": "stdout",
     "output_type": "stream",
     "text": [
      "Using matplotlib backend: <object object at 0x7481480ee430>\n"
     ]
    }
   ],
   "source": [
    "%matplotlib\n",
    "import matplotlib.pyplot as plt\n",
    "import pandas as pd\n",
    "pd.options.display.max_columns = None\n",
    "plt.ioff()\n",
    "import interactive_plot\n",
    "%load_ext autoreload\n",
    "%autoreload 2"
   ]
  },
  {
   "cell_type": "markdown",
   "id": "d57b3c2e",
   "metadata": {},
   "source": [
    "# Data Review Tool\n",
    "\n",
    "Below is the data review tool. All code for it is contained in interactive_plot.py."
   ]
  },
  {
   "cell_type": "code",
   "execution_count": 2,
   "id": "3ccd6efe",
   "metadata": {},
   "outputs": [
    {
     "data": {
      "application/vnd.jupyter.widget-view+json": {
       "model_id": "a383e485b1304ba193d10b6c18f9aaaf",
       "version_major": 2,
       "version_minor": 0
      },
      "text/plain": [
       "neural_plot(children=(Output(layout=Layout(border_bottom='solid 1px black', border_left='solid 1px black', bor…"
      ]
     },
     "metadata": {},
     "output_type": "display_data"
    },
    {
     "name": "stdout",
     "output_type": "stream",
     "text": [
      "Loading 2020-01-27_preprocess.pkl...\n"
     ]
    },
    {
     "name": "stdout",
     "output_type": "stream",
     "text": [
      "Plotting Initialized\n"
     ]
    }
   ],
   "source": [
    "plt.close('all')\n",
    "# Please input absolute filepaths here (for example, in the default case /<path_to_repo>/data_test)\n",
    "data_path = '/home/chang/Documents/ND/github/LINK_dataset/data_test'\n",
    "output_path = '/home/chang/Documents/ND/github/LINK_dataset/outputs'\n",
    "\n",
    "plot = interactive_plot.neural_plot(data_path, output_path)\n",
    "plot.start(resume=False, start_from_date='2020-01-27')"
   ]
  }
 ],
 "metadata": {
  "kernelspec": {
   "display_name": "LINK",
   "language": "python",
   "name": "python3"
  },
  "language_info": {
   "codemirror_mode": {
    "name": "ipython",
    "version": 3
   },
   "file_extension": ".py",
   "mimetype": "text/x-python",
   "name": "python",
   "nbconvert_exporter": "python",
   "pygments_lexer": "ipython3",
   "version": "3.9.21"
  }
 },
 "nbformat": 4,
 "nbformat_minor": 5
}
