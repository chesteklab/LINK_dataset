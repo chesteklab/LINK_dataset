{
 "cells": [
  {
   "cell_type": "code",
   "execution_count": 1,
   "id": "7e280911",
   "metadata": {},
   "outputs": [
    {
     "name": "stdout",
     "output_type": "stream",
     "text": [
      "Using matplotlib backend: <object object at 0x72a97ff9d2d0>\n"
     ]
    }
   ],
   "source": [
    "%matplotlib\n",
    "import matplotlib.pyplot as plt\n",
    "import pandas as pd\n",
    "pd.options.display.max_columns = None\n",
    "plt.ioff()\n",
    "import interactive_plot\n",
    "%load_ext autoreload"
   ]
  },
  {
   "cell_type": "markdown",
   "id": "d57b3c2e",
   "metadata": {},
   "source": [
    "# Data Review Tool\n",
    "\n",
    "Below is the data review tool. All code for it is contained in interactive_plot.py."
   ]
  },
  {
   "cell_type": "code",
   "execution_count": null,
   "id": "3ccd6efe",
   "metadata": {},
   "outputs": [
    {
     "name": "stdout",
     "output_type": "stream",
     "text": [
      "/home/chang/Documents/ND/github/LINK_dataset\n"
     ]
    },
    {
     "data": {
      "application/vnd.jupyter.widget-view+json": {
       "model_id": "ed9655207863404cb4d65830ba14df24",
       "version_major": 2,
       "version_minor": 0
      },
      "text/plain": [
       "neural_plot(children=(Output(layout=Layout(border_bottom='solid 1px black', border_left='solid 1px black', bor…"
      ]
     },
     "metadata": {},
     "output_type": "display_data"
    }
   ],
   "source": [
    "%autoreload 2\n",
    "%cd ..\n",
    "plt.close('all')\n",
    "data_path = '<INSERT PATH TO PKL FILES HERE>'\n",
    "output_path = '<INSERT PATH TO OUTPUT FOLDER HERE>'\n",
    "\n",
    "plot = interactive_plot.neural_plot(data_path, output_path)\n",
    "\n",
    "\n",
    "plot.start(resume=True, start_from_date='2022-08-25')"
   ]
  }
 ],
 "metadata": {
  "kernelspec": {
   "display_name": "LINK",
   "language": "python",
   "name": "python3"
  },
  "language_info": {
   "codemirror_mode": {
    "name": "ipython",
    "version": 3
   },
   "file_extension": ".py",
   "mimetype": "text/x-python",
   "name": "python",
   "nbconvert_exporter": "python",
   "pygments_lexer": "ipython3",
   "version": "3.9.21"
  }
 },
 "nbformat": 4,
 "nbformat_minor": 5
}
