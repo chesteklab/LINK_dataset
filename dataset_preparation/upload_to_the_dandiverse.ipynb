{
 "cells": [
  {
   "cell_type": "markdown",
   "id": "b942403d",
   "metadata": {},
   "source": [
    "# monkey man into the dandiverse\n",
    "(upload the latest version of the dataset to dandi)\n",
    "\n",
    "## first validate the data\n",
    "run \"run_nwb_validator.bat\"\n",
    "\n",
    "## then inspect data"
   ]
  },
  {
   "cell_type": "code",
   "execution_count": null,
   "id": "f3254c57",
   "metadata": {},
   "outputs": [],
   "source": [
    "from nwbinspector import inspect_all\n",
    "# where is the data\n",
    "dataset_path = \"Z:\\\\Student Folders\\\\Nina_Gill\\\\data\\\\nwb_out\"\n",
    "\n",
    "all_results = list(inspect_all(path=dataset_path))"
   ]
  },
  {
   "cell_type": "code",
   "execution_count": 1,
   "id": "ff4770ed",
   "metadata": {},
   "outputs": [],
   "source": [
    "import pkl_to_nwb\n",
    "import config\n",
    "import pickle\n",
    "import os\n",
    "import numpy as np\n",
    "\n",
    "(nwb_converted_CO, nwb_converted_RD) = pkl_to_nwb.dicts_from_pickle(\n",
    "    f\"{config.good_daysdir}/2020-01-27_CO.nwb\",\n",
    "    config.nwbdir,\n",
    ")\n",
    "\n",
    "with open(os.path.join(config.good_daysdir, '2020-01-27_preprocess.pkl'), 'rb') as f:\n",
    "    original_CO, original_RD = pickle.load(f)\n",
    "\n",
    "#make sure they have the same keys\n",
    "assert(original_CO.keys() == nwb_converted_CO.keys())\n",
    "\n",
    "for key in original_CO.keys():\n",
    "    new_data = nwb_converted_CO[key]\n",
    "    old_data = original_CO[key]\n",
    "\n",
    "    if hasattr(new_data, \"__len__\"):\n",
    "        try:\n",
    "            if type(new_data) == np.ndarray:\n",
    "                assert((new_data==old_data).all())\n",
    "            else:\n",
    "                assert(new_data == old_data)\n",
    "        except:\n",
    "            print(key)\n",
    "            print(new_data.dtype)\n",
    "            print(old_data.dtype)\n",
    "    else:\n",
    "        try:\n",
    "            assert(old_data == new_data)\n",
    "        except:\n",
    "            print(\"NEW DATA: \\n\")\n",
    "            print(new_data)\n",
    "            print(\"OLD DATA: \\n\")\n",
    "            print(old_data)"
   ]
  },
  {
   "cell_type": "code",
   "execution_count": null,
   "id": "6a2095bc",
   "metadata": {},
   "outputs": [
    {
     "name": "stdout",
     "output_type": "stream",
     "text": [
      "[ 16130  16150  16170 ... 561330 561350 561370]\n",
      "[ 16129  16149  16170 ... 561330 561350 561370]\n"
     ]
    }
   ],
   "source": [
    "nwb_to =data_co['time']\n",
    "bb = data_co1['time']\n",
    "\n",
    "print(aa[aa>=16130])\n",
    "print(bb[aa>=16130])\n"
   ]
  },
  {
   "cell_type": "code",
   "execution_count": null,
   "id": "8f375c63",
   "metadata": {},
   "outputs": [],
   "source": []
  }
 ],
 "metadata": {
  "kernelspec": {
   "display_name": "dataset",
   "language": "python",
   "name": "python3"
  },
  "language_info": {
   "codemirror_mode": {
    "name": "ipython",
    "version": 3
   },
   "file_extension": ".py",
   "mimetype": "text/x-python",
   "name": "python",
   "nbconvert_exporter": "python",
   "pygments_lexer": "ipython3",
   "version": "3.9.21"
  }
 },
 "nbformat": 4,
 "nbformat_minor": 5
}
