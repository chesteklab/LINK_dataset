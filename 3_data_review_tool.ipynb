{
 "cells": [
  {
   "cell_type": "code",
   "execution_count": 2,
   "id": "7e280911",
   "metadata": {},
   "outputs": [],
   "source": [
    "%matplotlib widget\n",
    "import h5py\n",
    "import numpy as np\n",
    "import os\n",
    "import sys\n",
    "import data_utils\n",
    "import scipy.io as sio\n",
    "# sys.path.append('/Users/yixuan/Documents/GitHub/pybmi')\n",
    "# from pybmi.utils.ZTools import ZStructTranslator, zarray\n",
    "# from pybmi.utils import ZTools, spikePlot_JC, AnalysisTools\n",
    "# from pybmi.utils.ZTools import ZStructTranslator,zarray\n",
    "# from pybmi.utils.AnalysisTools import calcBitRate\n",
    "\n",
    "import matplotlib.pyplot as plt\n",
    "import pandas as pd\n",
    "pd.options.display.max_columns = None\n",
    "from ipywidgets import Text, IntSlider, VBox, HBox, Button, RadioButtons, Textarea, Output\n",
    "from IPython.display import display, clear_output\n",
    "plt.ioff()\n",
    "import interactive_plot\n",
    "import pickle\n",
    "import math\n",
    "import time\n",
    "%load_ext autoreload"
   ]
  },
  {
   "cell_type": "markdown",
   "id": "d57b3c2e",
   "metadata": {},
   "source": [
    "# Data Review Tool\n",
    "\n",
    "Below is the data review tool. All code for it is contained in interactive_plot.py. Preprocessing was done with data_utils.py"
   ]
  },
  {
   "cell_type": "code",
   "execution_count": 4,
   "id": "3ccd6efe",
   "metadata": {},
   "outputs": [
    {
     "data": {
      "application/vnd.jupyter.widget-view+json": {
       "model_id": "3713d1fb250a417db07ba5a3d1797e69",
       "version_major": 2,
       "version_minor": 0
      },
      "text/plain": [
       "neural_plot(children=(Output(layout=Layout(border_bottom='solid 1px black', border_left='solid 1px black', bor…"
      ]
     },
     "metadata": {},
     "output_type": "display_data"
    },
    {
     "name": "stdout",
     "output_type": "stream",
     "text": [
      "c:\\Repos\\nhp_time_dataset_processing\\plot_preprocessing\n"
     ]
    }
   ],
   "source": [
    "%autoreload 2\n",
    "plt.close('all')\n",
    "plot = interactive_plot.neural_plot(resume=False)\n",
    "\n",
    "plot.start(resume=False)"
   ]
  },
  {
   "cell_type": "code",
   "execution_count": null,
   "id": "5e1351ba",
   "metadata": {},
   "outputs": [],
   "source": []
  }
 ],
 "metadata": {
  "kernelspec": {
   "display_name": "Python 3 (ipykernel)",
   "language": "python",
   "name": "python3"
  },
  "language_info": {
   "codemirror_mode": {
    "name": "ipython",
    "version": 3
   },
   "file_extension": ".py",
   "mimetype": "text/x-python",
   "name": "python",
   "nbconvert_exporter": "python",
   "pygments_lexer": "ipython3",
   "version": "3.8.18"
  }
 },
 "nbformat": 4,
 "nbformat_minor": 5
}
